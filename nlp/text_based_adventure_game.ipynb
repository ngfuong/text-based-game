{
 "metadata": {
  "language_info": {
   "codemirror_mode": {
    "name": "ipython",
    "version": 3
   },
   "file_extension": ".py",
   "mimetype": "text/x-python",
   "name": "python",
   "nbconvert_exporter": "python",
   "pygments_lexer": "ipython3",
   "version": "3.8.8-final"
  },
  "orig_nbformat": 2,
  "kernelspec": {
   "name": "python388jvsc74a57bd0cfac66161ae91176b189fc5d840229a5daa938976225f5ac7dd7199e440d2efc",
   "display_name": "Python 3.8.8 64-bit ('nlp': conda)"
  },
  "metadata": {
   "interpreter": {
    "hash": "cfac66161ae91176b189fc5d840229a5daa938976225f5ac7dd7199e440d2efc"
   }
  }
 },
 "nbformat": 4,
 "nbformat_minor": 2,
 "cells": [
  {
   "cell_type": "code",
   "execution_count": 1,
   "metadata": {},
   "outputs": [
    {
     "output_type": "stream",
     "name": "stderr",
     "text": [
      "[nltk_data] Downloading package wordnet to /home/ngfuong/nltk_data...\n[nltk_data]   Package wordnet is already up-to-date!\n[nltk_data] Downloading package punkt to /home/ngfuong/nltk_data...\n[nltk_data]   Package punkt is already up-to-date!\n"
     ]
    },
    {
     "output_type": "execute_result",
     "data": {
      "text/plain": [
       "True"
      ]
     },
     "metadata": {},
     "execution_count": 1
    }
   ],
   "source": [
    "import nltk\n",
    "nltk.download('wordnet')\n",
    "nltk.download('punkt')"
   ]
  },
  {
   "cell_type": "code",
   "execution_count": 2,
   "metadata": {},
   "outputs": [],
   "source": [
    "from nltk.corpus import wordnet as wn\n",
    "from nltk.tokenize import word_tokenize"
   ]
  },
  {
   "source": [
    "## Word Senses\n",
    "Words can have multiple meanings. WordNet organizes word senses into a structure called synsets.\n",
    "\n",
    "Each word can have multiple synsets, each synset represents a different meaning of that word."
   ],
   "cell_type": "markdown",
   "metadata": {}
  },
  {
   "cell_type": "code",
   "execution_count": 3,
   "metadata": {},
   "outputs": [
    {
     "output_type": "stream",
     "name": "stdout",
     "text": [
      "Sense 0: bug.n.01\nDefinition: general term for any insect or similar creeping or crawling invertebrate\nSynonyms: ['bug']\n\nSense 1: bug.n.02\nDefinition: a fault or defect in a computer program, system, or machine\nSynonyms: ['bug', 'glitch']\n\nSense 2: bug.n.03\nDefinition: a small hidden microphone; for listening secretly\nSynonyms: ['bug']\n\nSense 3: hemipterous_insect.n.01\nDefinition: insects with sucking mouthparts and forewings thickened and leathery at the base; usually show incomplete metamorphosis\nSynonyms: ['hemipterous insect', 'bug', 'hemipteran', 'hemipteron']\n\nSense 4: microbe.n.01\nDefinition: a minute life form (especially a disease-causing bacterium); the term is not in technical use\nSynonyms: ['microbe', 'bug', 'germ']\n\nSense 5: tease.v.01\nDefinition: annoy persistently\nSynonyms: ['tease', 'badger', 'pester', 'bug', 'beleaguer']\n\nSense 6: wiretap.v.01\nDefinition: tap a telephone or telegraph wire to get information\nSynonyms: ['wiretap', 'tap', 'intercept', 'bug']\n\n"
     ]
    }
   ],
   "source": [
    "def get_senses(word):\n",
    "    \"\"\"\n",
    "    Returns a list of senses (synsets) of a word\n",
    "    \"\"\"\n",
    "    word_senses = wn.synsets(word)\n",
    "    return word_senses\n",
    "\n",
    "def get_definition(word_sense):\n",
    "    return word_sense.definition()\n",
    "\n",
    "def get_synonyms(word_sense):\n",
    "    synonyms = []\n",
    "    for lemma in word_sense.lemmas():\n",
    "        synonym = lemma.name().replace('_', ' ')\n",
    "        synonyms.append(synonym)\n",
    "    return synonyms\n",
    "\n",
    "# Example: bug\n",
    "word_senses = get_senses(\"bug\")\n",
    "for i, word_sense in enumerate(word_senses):\n",
    "    print(\"Sense %d: %s\" %(i, word_sense.name()))\n",
    "    print(\"Definition:\", get_definition(word_sense))\n",
    "    print(\"Synonyms:\", get_synonyms(word_sense))\n",
    "    print()"
   ]
  },
  {
   "source": [
    "## Hypernyms/Hyponyms\n",
    "For example, red is a specific kind of color, or microbe is a kind of organism. These are example of hyponym relationships. If X is-a Y then X is a hyponym of Y, and Y is a hypernym of X. So red is a hyponym of color and color is a hypernym of red.\n",
    "\n",
    "In WordNet, each word sense (synset) has its own hypernyms and hyponyms."
   ],
   "cell_type": "markdown",
   "metadata": {}
  },
  {
   "cell_type": "code",
   "execution_count": 4,
   "metadata": {},
   "outputs": [
    {
     "output_type": "stream",
     "name": "stdout",
     "text": [
      "\nSense 0: bug.n.01 (general term for any insect or similar creeping or crawling invertebrate)\nHypernyms:\nbug.n.01 \tis a\t insect.n.01\ninsect.n.01 \tis a\t arthropod.n.01\narthropod.n.01 \tis a\t invertebrate.n.01\ninvertebrate.n.01 \tis a\t animal.n.01\nanimal.n.01 \tis a\t organism.n.01\norganism.n.01 \tis a\t living_thing.n.01\nliving_thing.n.01 \tis a\t whole.n.02\nwhole.n.02 \tis a\t object.n.01\nobject.n.01 \tis a\t physical_entity.n.01\nphysical_entity.n.01 \tis a\t entity.n.01\n\nSense 1: bug.n.02 (a fault or defect in a computer program, system, or machine)\nHypernyms:\nbug.n.02 \tis a\t defect.n.03\ndefect.n.03 \tis a\t imperfection.n.01\nimperfection.n.01 \tis a\t state.n.02\nstate.n.02 \tis a\t attribute.n.02\nattribute.n.02 \tis a\t abstraction.n.06\nabstraction.n.06 \tis a\t entity.n.01\n\nSense 2: bug.n.03 (a small hidden microphone; for listening secretly)\nHypernyms:\nbug.n.03 \tis a\t microphone.n.01\nmicrophone.n.01 \tis a\t electro-acoustic_transducer.n.01\nelectro-acoustic_transducer.n.01 \tis a\t transducer.n.01\ntransducer.n.01 \tis a\t electrical_device.n.01\nelectrical_device.n.01 \tis a\t device.n.01\ndevice.n.01 \tis a\t instrumentality.n.03\ninstrumentality.n.03 \tis a\t artifact.n.01\nartifact.n.01 \tis a\t whole.n.02\nwhole.n.02 \tis a\t object.n.01\nobject.n.01 \tis a\t physical_entity.n.01\nphysical_entity.n.01 \tis a\t entity.n.01\n\nSense 3: hemipterous_insect.n.01 (insects with sucking mouthparts and forewings thickened and leathery at the base; usually show incomplete metamorphosis)\nHypernyms:\nhemipterous_insect.n.01 \tis a\t insect.n.01\ninsect.n.01 \tis a\t arthropod.n.01\narthropod.n.01 \tis a\t invertebrate.n.01\ninvertebrate.n.01 \tis a\t animal.n.01\nanimal.n.01 \tis a\t organism.n.01\norganism.n.01 \tis a\t living_thing.n.01\nliving_thing.n.01 \tis a\t whole.n.02\nwhole.n.02 \tis a\t object.n.01\nobject.n.01 \tis a\t physical_entity.n.01\nphysical_entity.n.01 \tis a\t entity.n.01\n\nSense 4: microbe.n.01 (a minute life form (especially a disease-causing bacterium); the term is not in technical use)\nHypernyms:\nmicrobe.n.01 \tis a\t microorganism.n.01\nmicroorganism.n.01 \tis a\t organism.n.01\norganism.n.01 \tis a\t living_thing.n.01\nliving_thing.n.01 \tis a\t whole.n.02\nwhole.n.02 \tis a\t object.n.01\nobject.n.01 \tis a\t physical_entity.n.01\nphysical_entity.n.01 \tis a\t entity.n.01\n\nSense 5: tease.v.01 (annoy persistently)\nHypernyms:\ntease.v.01 \tis a\t torment.v.02\ntorment.v.02 \tis a\t harass.v.01\nharass.v.01 \tis a\t annoy.v.01\nannoy.v.01 \tis a\t displease.v.01\n\nSense 6: wiretap.v.01 (tap a telephone or telegraph wire to get information)\nHypernyms:\nwiretap.v.01 \tis a\t listen_in.v.02\nlisten_in.v.02 \tis a\t listen.v.01\nlisten.v.01 \tis a\t perceive.v.01\n"
     ]
    }
   ],
   "source": [
    "hyper = lambda s: s.hypernyms()\n",
    "hypo = lambda s: s.hyponyms()\n",
    "\n",
    "def get_hypernyms(word_sense, depth=5):\n",
    "    return list(word_sense.closure(hyper, depth=depth))\n",
    "\n",
    "def get_hyponyms(word_sense, depth=5):\n",
    "    return list(word_sense.closure(hypo, depth=depth))\n",
    "\n",
    "# Example: bug\n",
    "word_senses = get_senses(\"bug\")\n",
    "for i, word_sense in enumerate(word_senses):\n",
    "    \"\"\"\n",
    "    The synset names include a word from the set of synonyms,\n",
    "    plus a POS (n for noun, v for verb) and\n",
    "    the number of the sense (sense 01 is the most common sense)\n",
    "    \"\"\"\n",
    "    print(\"\\nSense %d: %s (%s)\" %(i, word_sense.name(), get_definition(word_sense)))\n",
    "    print(\"Hypernyms:\")\n",
    "    hypernyms = word_sense.hypernyms()\n",
    "    while len(hypernyms)>0:\n",
    "        print(word_sense.name(),\"\\tis a\\t\",hypernyms[0].name())\n",
    "        word_sense = hypernyms[0]\n",
    "        hypernyms = word_sense.hypernyms()"
   ]
  },
  {
   "source": [
    "## Manually annotate Senses and Hypernyms/Hyponyms\n"
   ],
   "cell_type": "markdown",
   "metadata": {}
  },
  {
   "cell_type": "code",
   "execution_count": 5,
   "metadata": {},
   "outputs": [],
   "source": [
    "def annotate_synsets(sentences):\n",
    "  \"\"\"This function queries WordNet for each word in a list of sentences,\n",
    "     and asks the user to input a number corresponding to the synset.\"\"\"\n",
    "  \n",
    "  print(sent.upper())\n",
    "  word_senses = {}\n",
    "  # Cached selections maps from word string to the previous\n",
    "  # selection for this word (an integer)\n",
    "  cached_selections = {}\n",
    "\n",
    "  for i, sent in enumerate(sentences):\n",
    "    words = word_tokenize(sent.lower())\n",
    "\n",
    "    for word in words:\n",
    "      sysnsets = wn.synsets(word)\n",
    "      if len(sysnsets) != 0:\n",
    "        selection = select_synset(sent, word, sysnsets, cached_selections)\n",
    "        if selection != None:\n",
    "          cached_selections[word] = selection\n",
    "          if selection < len(sysnsets):\n",
    "            s = sysnsets[selection]\n",
    "            word_senses[word] = s.name()\n",
    "        print()\n",
    "  print(\"---\")\n",
    "  return word_senses\n",
    "\n",
    "\n",
    "def select_synset(sent, word, sysnsets, cached_selections):\n",
    "  \"\"\"Ask the user to select which sense of the word  \n",
    "     is being used in this sentence.\"\"\"\n",
    "  print(word.upper())\n",
    "\n",
    "  prev_selection = -1\n",
    "  if word in cached_selections:\n",
    "    prev_selection = cached_selections[word]\n",
    "\n",
    "  for choice, s in enumerate(sysnsets):\n",
    "    if choice == prev_selection:\n",
    "      print(\"*** \", end = '')\n",
    "    print(\"%d) %s - %s\" % (choice, s.name(), s.definition()))\n",
    "\n",
    "  choice += 1\n",
    "  if choice == prev_selection:\n",
    "    print(\"*** \", end = '')\n",
    "  print(\"%d) None of these.\" % choice)\n",
    "\n",
    "  selection = -1\n",
    "  while selection == -1:\n",
    "    try:\n",
    "      user_input = input(\">\")\n",
    "      if user_input.strip() == 'x':\n",
    "        # The user can press 'x' to exit.\n",
    "        return None\n",
    "      if user_input.strip() == '' and prev_selection > -1:\n",
    "        # The user can press retrun to confirm the previous selection.\n",
    "        return prev_selection\n",
    "      selection = int(user_input)\n",
    "    except:\n",
    "      selection = -1\n",
    "    if selection < 0 or selection > len(sysnsets):\n",
    "      print(\"Please select a number between 0-%d, or type 'x' to exit\" % len(sysnsets))\n",
    "      if prev_selection > -1:\n",
    "        print(\"You can also press return to confirm the previous selection (marked by ***).\")\n",
    "    else:\n",
    "      return selection\n",
    "\n",
    "\n",
    "def confirm_hyponyms(word, sysnset, do_hypernyms_instead=False):\n",
    "  \"\"\"Ask the user to confirm which of the hyponyms are applicable \n",
    "     for this sentence.\"\"\"\n",
    "  print(\"\\n\",word.upper())\n",
    "\n",
    "  confirmed = []\n",
    "  if do_hypernyms_instead:\n",
    "    unconfirmed = sysnset.hypernyms()\n",
    "  else:\n",
    "    unconfirmed = sysnset.hyponyms()\n",
    "\n",
    "  while len(unconfirmed) > 0:\n",
    "    s = unconfirmed.pop(0)\n",
    "    print(\"Is %s an appropriate substitute for %s? (y/n)\" % (s.name(), word))\n",
    "    print(\"It means:\", s.definition())\n",
    "    print(\"Synonyms are:\", get_synonyms(s))\n",
    "    user_input = ''\n",
    "    while user_input == '':\n",
    "      user_input = input(\">\")\n",
    "      user_input = user_input.strip()\n",
    "      if user_input == 'y' or user_input == 'yes':\n",
    "        confirmed.append(s.name())\n",
    "        if do_hypernyms_instead:\n",
    "          unconfirmed.extend(s.hypernyms())\n",
    "        else:\n",
    "          unconfirmed.extend(s.hyponyms())\n",
    "        \n",
    "      elif user_input == 'n' or user_input == 'no':\n",
    "        pass\n",
    "      elif user_input == 'x':\n",
    "        # The user can press 'x' to exit.\n",
    "        return confirmed\n",
    "      else:\n",
    "        print(\"Please type 'yes' or 'no' or 'x' to stop confirming for this word\")\n",
    "        user_input = ''\n",
    "  return confirmed\n",
    "\n",
    "# Save your annotations to a file, so that you can submit them with your homework.\n",
    "def save_to_drive(word_senses, confirmed_hyponyms, confirmed_hypernyms):\n",
    "  import json\n",
    "  from google.colab import drive\n",
    "  drive.mount('/content/drive/')\n",
    "\n",
    "  output_file = '/content/drive/My Drive/word-sense-annotations.json'\n",
    "  output_json = {}\n",
    "  output_json['senses'] = word_senses\n",
    "  output_json['hyponyms'] = confirmed_hyponyms\n",
    "  output_json['hypernyms'] = confirmed_hypernyms\n",
    "\n",
    "  with open(output_file, 'w') as write_file:\n",
    "    write_file.write(json.dumps(output_json, sort_keys=True, indent=4))\n",
    "    write_file.write('\\n')\n",
    "\n",
    "#TODO: Sua loi huhu !!!!!!!!!!!!!!!!!\n",
    "def save_to_file(word_senses, confirmed_hyponyms, confirmed_hypernyms):\n",
    "  import json\n",
    "\n",
    "  output_file = 'word-sense-annotations.json'\n",
    "  output_json = {}\n",
    "  output_json['senses'] = word_senses\n",
    "  output_json['hyponyms'] = confirmed_hyponyms\n",
    "  output_json['hypernyms'] = confirmed_hypernyms\n",
    "\n",
    "  with open(output_file, 'w') as f:\n",
    "      json.dump(output_json, f, ensure_ascii=False, sort_keys=True, indent=4)"
   ]
  },
  {
   "cell_type": "code",
   "execution_count": 6,
   "metadata": {},
   "outputs": [],
   "source": [
    "commands = [\n",
    "    'pick rose',\n",
    "    'catch fish'\n",
    "]"
   ]
  },
  {
   "cell_type": "code",
   "execution_count": 7,
   "metadata": {
    "tags": []
   },
   "outputs": [
    {
     "output_type": "stream",
     "name": "stdout",
     "text": [
      "ANNOTATING SYNSETS...\n"
     ]
    },
    {
     "output_type": "error",
     "ename": "UnboundLocalError",
     "evalue": "local variable 'sent' referenced before assignment",
     "traceback": [
      "\u001b[0;31m---------------------------------------------------------------------------\u001b[0m",
      "\u001b[0;31mUnboundLocalError\u001b[0m                         Traceback (most recent call last)",
      "\u001b[0;32m<ipython-input-7-b9280b818ead>\u001b[0m in \u001b[0;36m<module>\u001b[0;34m\u001b[0m\n\u001b[1;32m      1\u001b[0m \u001b[0;31m# Test cell\u001b[0m\u001b[0;34m\u001b[0m\u001b[0;34m\u001b[0m\u001b[0;34m\u001b[0m\u001b[0m\n\u001b[1;32m      2\u001b[0m \u001b[0mprint\u001b[0m\u001b[0;34m(\u001b[0m\u001b[0;34m\"ANNOTATING SYNSETS...\"\u001b[0m\u001b[0;34m)\u001b[0m\u001b[0;34m\u001b[0m\u001b[0;34m\u001b[0m\u001b[0m\n\u001b[0;32m----> 3\u001b[0;31m \u001b[0mword_senses\u001b[0m \u001b[0;34m=\u001b[0m \u001b[0mannotate_synsets\u001b[0m\u001b[0;34m(\u001b[0m\u001b[0mcommands\u001b[0m\u001b[0;34m)\u001b[0m\u001b[0;34m\u001b[0m\u001b[0;34m\u001b[0m\u001b[0m\n\u001b[0m\u001b[1;32m      4\u001b[0m \u001b[0mconfirmed_hyponyms\u001b[0m \u001b[0;34m=\u001b[0m \u001b[0;34m{\u001b[0m\u001b[0;34m}\u001b[0m\u001b[0;34m\u001b[0m\u001b[0;34m\u001b[0m\u001b[0m\n\u001b[1;32m      5\u001b[0m \u001b[0mconfirmed_hypernyms\u001b[0m \u001b[0;34m=\u001b[0m \u001b[0;34m{\u001b[0m\u001b[0;34m}\u001b[0m\u001b[0;34m\u001b[0m\u001b[0;34m\u001b[0m\u001b[0m\n",
      "\u001b[0;32m<ipython-input-5-6c0c72f6da5f>\u001b[0m in \u001b[0;36mannotate_synsets\u001b[0;34m(sentences)\u001b[0m\n\u001b[1;32m      3\u001b[0m      and asks the user to input a number corresponding to the synset.\"\"\"\n\u001b[1;32m      4\u001b[0m \u001b[0;34m\u001b[0m\u001b[0m\n\u001b[0;32m----> 5\u001b[0;31m   \u001b[0mprint\u001b[0m\u001b[0;34m(\u001b[0m\u001b[0msent\u001b[0m\u001b[0;34m.\u001b[0m\u001b[0mupper\u001b[0m\u001b[0;34m(\u001b[0m\u001b[0;34m)\u001b[0m\u001b[0;34m)\u001b[0m\u001b[0;34m\u001b[0m\u001b[0;34m\u001b[0m\u001b[0m\n\u001b[0m\u001b[1;32m      6\u001b[0m   \u001b[0mword_senses\u001b[0m \u001b[0;34m=\u001b[0m \u001b[0;34m{\u001b[0m\u001b[0;34m}\u001b[0m\u001b[0;34m\u001b[0m\u001b[0;34m\u001b[0m\u001b[0m\n\u001b[1;32m      7\u001b[0m   \u001b[0;31m# Cached selections maps from word string to the previous\u001b[0m\u001b[0;34m\u001b[0m\u001b[0;34m\u001b[0m\u001b[0;34m\u001b[0m\u001b[0m\n",
      "\u001b[0;31mUnboundLocalError\u001b[0m: local variable 'sent' referenced before assignment"
     ]
    }
   ],
   "source": [
    "# Test cell\n",
    "#TODO: SUA LOI HUHU\n",
    "print(\"ANNOTATING SYNSETS...\")\n",
    "word_senses = annotate_synsets(commands)\n",
    "confirmed_hyponyms = {}\n",
    "confirmed_hypernyms = {}\n",
    "\n",
    "for word in word_senses:\n",
    "    print(\"First, pick the word sense for the word '%s'\" %word)\n",
    "    print(\"==========\")\n",
    "    word_sense = wn.synset(word_senses[word])\n",
    "    print(\"Next, pick which hypernyms of %s we should allow players to use.\" %word_sense.name())\n",
    "    print(\"==========\")\n",
    "    confirmed_hypernyms[word] = confirm_hyponyms(word, word_sense, do_hypernyms_instead=True)\n",
    "    print(\"Finally, pick which hyponyms of %s we should allow players to use.\" %word_sense.name())\n",
    "    print('==========')\n",
    "    confirmed_hyponyms[word] = confirm_hyponyms(word, word_sense)\n",
    "\n",
    "print(\"You've done annotating!\")\n",
    "print(\"Saving your annotation to local file ('word-sense-annotations.json')...\")\n",
    "save_to_file(word_sense, confirmed_hyponyms, confirmed_hypernyms)"
   ]
  },
  {
   "source": [
    "### Look over Annotations"
   ],
   "cell_type": "markdown",
   "metadata": {}
  },
  {
   "cell_type": "code",
   "execution_count": 18,
   "metadata": {},
   "outputs": [
    {
     "output_type": "stream",
     "name": "stdout",
     "text": [
      "WEAR\nSynonyms: ['wear', 'have on']\nHypernyms:\nHyponyms:\n---\nCROWN\nSynonyms: ['Crown']\nHypernyms:\nHyponyms:\n---\n"
     ]
    }
   ],
   "source": [
    "for word in word_senses:\n",
    "    print(word.upper())\n",
    "    word_sense = wn.synset(word_senses[word])\n",
    "    print(\"Synonyms:\", get_synonyms(word_sense))\n",
    "    \n",
    "    print(\"Hypernyms:\",)\n",
    "    for hypernym in confirmed_hypernyms:\n",
    "        print(\"\\t\", get_synonyms(wn.synset(hypernym)))\n",
    "    \n",
    "    print(\"Hyponyms:\",)\n",
    "    hyponyms = confirmed_hyponyms[word]\n",
    "    for hyponym in hyponyms:\n",
    "        print(\"\\t\", get_synonyms(wn.synset(hyponym)))\n",
    "    print(\"---\")"
   ]
  },
  {
   "source": [
    "## Enumnerate Alternative Wordings of Commands\n",
    "Ouput a set of reasonably accurate paraphrases for the commands in our game"
   ],
   "cell_type": "markdown",
   "metadata": {}
  },
  {
   "cell_type": "code",
   "execution_count": 9,
   "metadata": {},
   "outputs": [],
   "source": [
    "import itertools\n",
    "\n",
    "def get_alternatives(word, word_senses, confirmed_hypernyms, confirmed_hyponyms):\n",
    "    \"\"\"\n",
    "    Create a list of reasonable alternative for a word by listing out the synonyms for its word sense, and for its hyponyms and hypernyms\n",
    "    \"\"\"\n",
    "    alternatives = []\n",
    "    if not word in word_senses:\n",
    "        alternatives.append(word)\n",
    "        return alternatives\n",
    "    \n",
    "    word_sense = wn.synset(word_senses[word])\n",
    "    alternatives.extend(get_synonyms(word_sense))\n",
    "    for hypernym in confirmed_hypernyms[word]:\n",
    "        alternatives.extend(get_synonyms(wn.synset(hypernym)))\n",
    "    for hyponym in confirmed_hyponyms[word]:\n",
    "        alternatives.extend(get_synonyms(wn.synset(hyponym)))\n",
    "    return alternatives\n",
    "\n",
    "\n",
    "def enumerate_alternatives(sentence, word_senses, confirmed_hypernyms, confirmed_hyponyms):\n",
    "    \"\"\"\n",
    "    Enumerate all of the sentences that can result\n",
    "    by taking any combination of the alternates for each word in the sentence\n",
    "    \"\"\"\n",
    "    words = word_tokenize(sentence.lower())\n",
    "    # 2-D list\n",
    "    alternatives_per_word = []\n",
    "    for word in words:\n",
    "        alternative = get_alternatives(word, word_senses, confirmed_hypernyms, confirmed_hyponyms)\n",
    "        alternatives_per_word.append(alternatives)\n",
    "    \n",
    "    # combination of 2-D lists\n",
    "    alternative_to_original = {}\n",
    "    for word in list(itertools.product(*alternatives_per_word)):\n",
    "        alt_sent = \" \".join(words)\n",
    "        alternative_to_original[alt_sent] = sentence\n",
    "    return alternative_to_original"
   ]
  },
  {
   "cell_type": "code",
   "execution_count": 10,
   "metadata": {},
   "outputs": [
    {
     "output_type": "error",
     "ename": "NameError",
     "evalue": "name 'confirmed_hypernyms' is not defined",
     "traceback": [
      "\u001b[0;31m---------------------------------------------------------------------------\u001b[0m",
      "\u001b[0;31mNameError\u001b[0m                                 Traceback (most recent call last)",
      "\u001b[0;32m<ipython-input-10-4f157030d69a>\u001b[0m in \u001b[0;36m<module>\u001b[0;34m\u001b[0m\n\u001b[1;32m      3\u001b[0m     alternative_commands.update(enumerate_alternatives(command,\n\u001b[1;32m      4\u001b[0m                                                         \u001b[0mword_senses\u001b[0m\u001b[0;34m,\u001b[0m\u001b[0;34m\u001b[0m\u001b[0;34m\u001b[0m\u001b[0m\n\u001b[0;32m----> 5\u001b[0;31m                                                         \u001b[0mconfirmed_hypernyms\u001b[0m\u001b[0;34m,\u001b[0m\u001b[0;34m\u001b[0m\u001b[0;34m\u001b[0m\u001b[0m\n\u001b[0m\u001b[1;32m      6\u001b[0m                                                         confirmed_hyponyms))\n\u001b[1;32m      7\u001b[0m \u001b[0;34m\u001b[0m\u001b[0m\n",
      "\u001b[0;31mNameError\u001b[0m: name 'confirmed_hypernyms' is not defined"
     ]
    }
   ],
   "source": [
    "alternative_commands = {}\n",
    "for command in commands:\n",
    "    alternative_commands.update(enumerate_alternatives(command,\n",
    "                                                        word_senses,\n",
    "                                                        confirmed_hypernyms,\n",
    "                                                        confirmed_hyponyms))\n",
    "\n",
    "for alt_sent in alternative_commands:\n",
    "    print(\"%s => %s\" %(alt_sent, alternative_commands[alt_senst]))\n",
    "print(\"Congratulations, you can now handle %d commands instead of just %d!\" %(len(alternative_commands.keys()), len(commands)))"
   ]
  },
  {
   "cell_type": "code",
   "execution_count": null,
   "metadata": {},
   "outputs": [],
   "source": []
  }
 ]
}