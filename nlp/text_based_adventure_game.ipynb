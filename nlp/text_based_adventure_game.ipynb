{
 "cells": [
  {
   "cell_type": "code",
   "execution_count": 1,
   "metadata": {},
   "outputs": [],
   "source": [
    "#import nltk\n",
    "#nltk.download('wordnet')\n",
    "#nltk.download('punkt')"
   ]
  },
  {
   "cell_type": "code",
   "execution_count": 33,
   "metadata": {},
   "outputs": [],
   "source": [
    "import nltk\n",
    "from nltk.corpus import wordnet as wn\n",
    "from nltk.tokenize import word_tokenize"
   ]
  },
  {
   "cell_type": "markdown",
   "metadata": {},
   "source": [
    "## Word Senses\n",
    "Words can have multiple meanings. WordNet organizes word senses into a structure called synsets.\n",
    "\n",
    "Each word can have multiple synsets, each synset represents a different meaning of that word."
   ]
  },
  {
   "cell_type": "code",
   "execution_count": 35,
   "metadata": {},
   "outputs": [],
   "source": [
    "def get_senses(word):\n",
    "    \"\"\"\n",
    "    Returns a list of senses (synsets) of a word\n",
    "    \"\"\"\n",
    "    word_senses = wn.synsets(word)\n",
    "    return word_senses\n",
    "\n",
    "def get_definition(word_sense):\n",
    "    return word_sense.definition()\n",
    "\n",
    "def get_synonyms(word_sense):\n",
    "    synonyms = []\n",
    "    for lemma in word_sense.lemmas():\n",
    "        synonym = lemma.name().replace('_', ' ')\n",
    "        synonyms.append(synonym)\n",
    "    return synonyms"
   ]
  },
  {
   "cell_type": "markdown",
   "metadata": {},
   "source": [
    "## Hypernyms/Hyponyms\n",
    "For example, red is a specific kind of color, or microbe is a kind of organism. These are example of hyponym relationships. If X is-a Y then X is a hyponym of Y, and Y is a hypernym of X. So red is a hyponym of color and color is a hypernym of red.\n",
    "\n",
    "In WordNet, each word sense (synset) has its own hypernyms and hyponyms."
   ]
  },
  {
   "cell_type": "code",
   "execution_count": 36,
   "metadata": {},
   "outputs": [],
   "source": [
    "hyper = lambda s: s.hypernyms()\n",
    "hypo = lambda s: s.hyponyms()\n",
    "\n",
    "def get_hypernyms(word_sense, depth=5):\n",
    "    return list(word_sense.closure(hyper, depth=depth))\n",
    "\n",
    "def get_hyponyms(word_sense, depth=5):\n",
    "    return list(word_sense.closure(hypo, depth=depth))"
   ]
  },
  {
   "cell_type": "markdown",
   "metadata": {},
   "source": [
    "## Manually annotate Senses and Hypernyms/Hyponyms\n"
   ]
  },
  {
   "cell_type": "code",
   "execution_count": 41,
   "metadata": {},
   "outputs": [
    {
     "data": {
      "text/plain": [
       "[Synset('make.v.03'),\n",
       " Synset('create.v.02'),\n",
       " Synset('create.v.03'),\n",
       " Synset('create.v.04'),\n",
       " Synset('create.v.05'),\n",
       " Synset('produce.v.02')]"
      ]
     },
     "execution_count": 41,
     "metadata": {},
     "output_type": "execute_result"
    }
   ],
   "source": [
    "wn.synsets(\"create\")"
   ]
  },
  {
   "cell_type": "code",
   "execution_count": 37,
   "metadata": {},
   "outputs": [],
   "source": [
    "def annotate_synsets(sentences):\n",
    "  \"\"\"This function queries WordNet for each word in a list of sentences,\n",
    "     and asks the user to input a number corresponding to the synset.\"\"\"\n",
    "  \n",
    "  word_senses = {}\n",
    "  # Cached selections maps from word string to the previous\n",
    "  # selection for this word (an integer)\n",
    "  cached_selections = {}\n",
    "\n",
    "  for i, sent in enumerate(sentences):\n",
    "    print(\"-----------\\n%s\\n----------\" %sent.upper())\n",
    "    words = word_tokenize(sent.lower())\n",
    "\n",
    "    for word in words:\n",
    "      synsets = wn.synsets(word)\n",
    "      if len(synsets) != 0:\n",
    "        selection = select_synset(sent, word, synsets, cached_selections)\n",
    "        if selection != None:\n",
    "          cached_selections[word] = selection\n",
    "          if selection < len(synsets):\n",
    "            s = synsets[selection]\n",
    "            word_senses[word] = s.name()\n",
    "      print()\n",
    "  print(\"===\")\n",
    "  return word_senses\n",
    "\n",
    "\n",
    "def select_synset(sent, word, synsets, cached_selections):\n",
    "  \"\"\"Ask the user to select which sense of the word  \n",
    "     is being used in this sentence.\"\"\"\n",
    "  print(word.upper())\n",
    "\n",
    "  prev_selection = -1\n",
    "  if word in cached_selections:\n",
    "    prev_selection = cached_selections[word]\n",
    "\n",
    "  for choice, s in enumerate(synsets):\n",
    "    if choice == prev_selection:\n",
    "      print(\"*** \", end = '')\n",
    "    print(\"%d) %s - %s\" % (choice, s.name(), s.definition()))\n",
    "\n",
    "  choice += 1\n",
    "  if choice == prev_selection:\n",
    "    print(\"*** \", end = '')\n",
    "  print(\"%d) None of these.\" % choice)\n",
    "\n",
    "  selection = -1\n",
    "  while selection == -1:\n",
    "    try:\n",
    "      user_input = input(\">\")\n",
    "      if user_input.strip() == 'x':\n",
    "        # The user can press 'x' to exit.\n",
    "        return None\n",
    "      if user_input.strip() == '' and prev_selection > -1:\n",
    "        # The user can press retrun to confirm the previous selection.\n",
    "        return prev_selection\n",
    "      selection = int(user_input)\n",
    "    except:\n",
    "      selection = -1\n",
    "    if selection < 0 or selection > len(synsets):\n",
    "      print(\"Please select a number between 0-%d, or type 'x' to exit\" % len(synsets))\n",
    "      if prev_selection > -1:\n",
    "        print(\"You can also press return to confirm the previous selection (marked by ***).\")\n",
    "    else:\n",
    "      return selection\n",
    "\n",
    "\n",
    "def confirm_hyponyms(word, sysnset, do_hypernyms_instead=False):\n",
    "  \"\"\"Ask the user to confirm which of the hyponyms are applicable \n",
    "     for this sentence.\"\"\"\n",
    "  print(\"\\n\",word.upper())\n",
    "\n",
    "  confirmed = []\n",
    "  if do_hypernyms_instead:\n",
    "    unconfirmed = sysnset.hypernyms()\n",
    "  else:\n",
    "    unconfirmed = sysnset.hyponyms()\n",
    "\n",
    "  while len(unconfirmed) > 0:\n",
    "    s = unconfirmed.pop(0)\n",
    "    print(\"Is %s an appropriate substitute for %s? (y/n)\" % (s.name(), word))\n",
    "    print(\"It means:\", s.definition())\n",
    "    print(\"Synonyms are:\", get_synonyms(s))\n",
    "    user_input = ''\n",
    "    while user_input == '':\n",
    "      user_input = input(\">\")\n",
    "      user_input = user_input.strip()\n",
    "      if user_input == 'y' or user_input == 'yes':\n",
    "        confirmed.append(s.name())\n",
    "        if do_hypernyms_instead:\n",
    "          unconfirmed.extend(s.hypernyms())\n",
    "        else:\n",
    "          unconfirmed.extend(s.hyponyms())\n",
    "        \n",
    "      elif user_input == 'n' or user_input == 'no':\n",
    "        pass\n",
    "      elif user_input == 'x':\n",
    "        # The user can press 'x' to exit.\n",
    "        return confirmed\n",
    "      else:\n",
    "        print(\"Please type 'yes' or 'no' or 'x' to stop confirming for this word\")\n",
    "        user_input = ''\n",
    "      print()\n",
    "  return confirmed\n",
    "\n",
    "# Save your annotations to a file, so that you can submit them with your homework.\n",
    "def save_to_drive(word_senses, confirmed_hyponyms, confirmed_hypernyms):\n",
    "  import json\n",
    "  from google.colab import drive\n",
    "  drive.mount('/content/drive/')\n",
    "\n",
    "  output_file = '/content/drive/My Drive/word-sense-annotations.json'\n",
    "  output_json = {}\n",
    "  output_json['senses'] = word_senses\n",
    "  output_json['hyponyms'] = confirmed_hyponyms\n",
    "  output_json['hypernyms'] = confirmed_hypernyms\n",
    "\n",
    "  with open(output_file, 'w') as write_file:\n",
    "    write_file.write(json.dumps(output_json, sort_keys=True, indent=4))\n",
    "    write_file.write('\\n')\n",
    "\n",
    "#TODO: Sua loi huhu !!!!!!!!!!!!!!!!!\n",
    "def save_to_file(word_senses, confirmed_hyponyms, confirmed_hypernyms):\n",
    "  import json\n",
    "\n",
    "  output_file = 'word-sense-annotations.json'\n",
    "  output_json = {}\n",
    "  output_json['senses'] = word_senses\n",
    "  output_json['hyponyms'] = confirmed_hyponyms\n",
    "  output_json['hypernyms'] = confirmed_hypernyms\n",
    "\n",
    "  with open(output_file, 'w') as f:\n",
    "      json.dump(output_json, f, ensure_ascii=False, sort_keys=True, indent=4)\n",
    "\n",
    "def read_from_file():\n",
    "    import json\n",
    "    \n",
    "    output_file = \"word-sense-annotations.json\"\n",
    "    with open(output_file, 'r') as f:\n",
    "        data = json.load(f)\n",
    "        \n",
    "    word_senses = data['senses']\n",
    "    confirmed_hypernyms = data['hypernyms']\n",
    "    confirmed_hyponyms = data['hyponyms']\n",
    "    \n",
    "    return word_senses, confirmed_hypernyms, confirmed_hyponyms"
   ]
  },
  {
   "cell_type": "code",
   "execution_count": 38,
   "metadata": {},
   "outputs": [],
   "source": [
    "commands = [\n",
    "    'give fish to troll',\n",
    "    'go north'\n",
    "]"
   ]
  },
  {
   "cell_type": "code",
   "execution_count": 39,
   "metadata": {
    "tags": [
     "outputPrepend"
    ]
   },
   "outputs": [
    {
     "name": "stdout",
     "output_type": "stream",
     "text": [
      "ANNOTATING SYNSETS...\n",
      "-----------\n",
      "GIVE FISH TO TROLL\n",
      "----------\n",
      "GIVE\n",
      "0) give.n.01 - the elasticity of something that can be stretched and returns to its original length\n",
      "1) give.v.01 - cause to have, in the abstract sense or physical sense\n",
      "2) yield.v.01 - be the cause or source of\n",
      "3) give.v.03 - transfer possession of something concrete or abstract to somebody\n",
      "4) give.v.04 - convey or reveal information\n",
      "5) give.v.05 - convey, as of a compliment, regards, attention, etc.; bestow\n",
      "6) hold.v.03 - organize or be responsible for\n",
      "7) give.v.07 - convey or communicate; of a smile, a look, a physical gesture\n",
      "8) give.v.08 - give as a present; make a gift of\n",
      "9) give.v.09 - cause to happen or be responsible for\n",
      "10) give.v.10 - dedicate\n",
      "11) render.v.04 - give or supply\n",
      "12) impart.v.01 - transmit (knowledge or skills)\n",
      "13) establish.v.05 - bring about\n",
      "14) give.v.14 - leave with; give temporarily\n",
      "15) give.v.15 - emit or utter\n",
      "16) sacrifice.v.01 - endure the loss of\n",
      "17) pass.v.05 - place into the hands or custody of\n",
      "18) give.v.18 - give entirely to a specific person, activity, or cause\n",
      "19) give.v.19 - give (as medicine)\n",
      "20) give.v.20 - give or convey physically\n",
      "21) give.v.21 - bestow\n",
      "22) grant.v.05 - bestow, especially officially\n",
      "23) move_over.v.01 - move in order to make room for someone for something\n",
      "24) feed.v.02 - give food to\n",
      "25) contribute.v.02 - contribute to some cause\n",
      "26) collapse.v.01 - break down, literally or metaphorically\n",
      "27) give.v.27 - estimate the duration or outcome of something\n",
      "28) give.v.28 - execute and deliver\n",
      "29) give.v.29 - deliver in exchange or recompense\n",
      "30) afford.v.04 - afford access to\n",
      "31) give.v.31 - present to view\n",
      "32) give.v.32 - perform for an audience\n",
      "33) give.v.33 - be flexible under stress of physical force\n",
      "34) give.v.34 - propose\n",
      "35) give.v.35 - accord by verdict\n",
      "36) give.v.36 - manifest or show\n",
      "37) give.v.37 - offer in good faith\n",
      "38) give.v.38 - submit for consideration, judgment, or use\n",
      "39) give.v.39 - guide or direct, as by behavior of persuasion\n",
      "40) give.v.40 - allow to have or take\n",
      "41) give.v.41 - inflict as a punishment\n",
      "42) give.v.42 - occur\n",
      "43) give.v.43 - consent to engage in sexual intercourse with a man\n",
      "44) give.v.44 - proffer (a body part)\n",
      "45) None of these.\n",
      "Please select a number between 0-45, or type 'x' to exit\n"
     ]
    },
    {
     "name": "stdin",
     "output_type": "stream",
     "text": [
      "> 3\n"
     ]
    },
    {
     "name": "stdout",
     "output_type": "stream",
     "text": [
      "\n",
      "FISH\n",
      "0) fish.n.01 - any of various mostly cold-blooded aquatic vertebrates usually having scales and breathing through gills\n",
      "1) fish.n.02 - the flesh of fish used as food\n",
      "2) pisces.n.02 - (astrology) a person who is born while the sun is in Pisces\n",
      "3) pisces.n.01 - the twelfth sign of the zodiac; the sun is in this sign from about February 19 to March 20\n",
      "4) fish.v.01 - seek indirectly\n",
      "5) fish.v.02 - catch or try to catch fish or shellfish\n",
      "6) None of these.\n"
     ]
    },
    {
     "name": "stdin",
     "output_type": "stream",
     "text": [
      "> 0\n"
     ]
    },
    {
     "name": "stdout",
     "output_type": "stream",
     "text": [
      "\n",
      "\n",
      "TROLL\n",
      "0) troll.n.01 - (Scandanavian folklore) a supernatural creature (either a dwarf or a giant) that is supposed to live in caves or in the mountains\n",
      "1) round.n.11 - a partsong in which voices follow each other; one voice starts and others join in one after another until all are singing different parts of the song at the same time\n",
      "2) troll.n.03 - a fisherman's lure that is used in trolling\n",
      "3) troll.n.04 - angling by drawing a baited line through the water\n",
      "4) troll.v.01 - circulate, move around\n",
      "5) troll.v.02 - cause to move round and round\n",
      "6) troll.v.03 - sing the parts of (a round) in succession\n",
      "7) troll.v.04 - angle with a hook and line drawn through the water\n",
      "8) troll.v.05 - sing loudly and without inhibition\n",
      "9) troll.v.06 - praise or celebrate in song\n",
      "10) troll.v.07 - speak or recite rapidly or in a rolling voice\n",
      "11) None of these.\n"
     ]
    },
    {
     "name": "stdin",
     "output_type": "stream",
     "text": [
      "> 0\n"
     ]
    },
    {
     "name": "stdout",
     "output_type": "stream",
     "text": [
      "\n",
      "-----------\n",
      "GO NORTH\n",
      "----------\n",
      "GO\n",
      "0) go.n.01 - a time for working (after which you will be relieved by someone else)\n",
      "1) adam.n.03 - street names for methylenedioxymethamphetamine\n",
      "2) crack.n.09 - a usually brief attempt\n",
      "3) go.n.04 - a board game for two players who place counters on a grid; the object is to surround and so capture the opponent's counters\n",
      "4) travel.v.01 - change location; move, travel, or proceed, also metaphorically\n",
      "5) go.v.02 - follow a procedure or take a course\n",
      "6) go.v.03 - move away from a place into another direction\n",
      "7) become.v.01 - enter or assume a certain state or condition\n",
      "8) go.v.05 - be awarded; be allotted\n",
      "9) run.v.05 - have a particular form\n",
      "10) run.v.03 - stretch out over a distance, space, time, or scope; run or extend between two points or beyond a certain point\n",
      "11) proceed.v.04 - follow a certain course\n",
      "12) go.v.09 - be abolished or discarded\n",
      "13) go.v.10 - be or continue to be in a certain condition\n",
      "14) sound.v.02 - make a certain noise or sound\n",
      "15) function.v.01 - perform as expected when applied\n",
      "16) run_low.v.01 - to be spent or finished\n",
      "17) move.v.13 - progress by being changed\n",
      "18) survive.v.01 - continue to live through hardship or adversity\n",
      "19) go.v.16 - pass, fare, or elapse; of a certain state of affairs or action\n",
      "20) die.v.01 - pass from physical life and lose all bodily attributes and functions necessary to sustain life\n",
      "21) belong.v.03 - be in the right place or situation\n",
      "22) go.v.19 - be ranked or compare\n",
      "23) start.v.09 - begin or set in motion\n",
      "24) move.v.15 - have a turn; make one's move in a game\n",
      "25) go.v.22 - be contained in\n",
      "26) go.v.23 - be sounded, played, or expressed\n",
      "27) blend.v.02 - blend or harmonize\n",
      "28) go.v.25 - lead, extend, or afford access\n",
      "29) fit.v.02 - be the right size or shape; fit correctly or as desired\n",
      "30) rifle.v.02 - go through in search of something; search through someone's belongings in an unauthorized way\n",
      "31) go.v.28 - be spent\n",
      "32) plump.v.04 - give support (to) or make a choice (of) one out of a group or number\n",
      "33) fail.v.04 - stop operating or functioning\n",
      "34) go.a.01 - functioning correctly and ready for action\n",
      "35) None of these.\n"
     ]
    },
    {
     "name": "stdin",
     "output_type": "stream",
     "text": [
      "> 5\n"
     ]
    },
    {
     "name": "stdout",
     "output_type": "stream",
     "text": [
      "\n",
      "NORTH\n",
      "0) north.n.01 - the region of the United States lying to the north of the Mason-Dixon line\n",
      "1) union.n.02 - the United States (especially the northern states during the American Civil War)\n",
      "2) north.n.03 - the cardinal compass point that is at 0 or 360 degrees\n",
      "3) north.n.04 - a location in the northern part of a country, region, or city\n",
      "4) north.n.05 - the direction corresponding to the northward cardinal compass point\n",
      "5) north.n.06 - the direction in which a compass needle points\n",
      "6) north.n.07 - British statesman under George III whose policies led to rebellion in the American colonies (1732-1792)\n",
      "7) north.a.01 - situated in or facing or moving toward or coming from the north\n",
      "8) north.r.01 - in a northern direction\n",
      "9) None of these.\n"
     ]
    },
    {
     "name": "stdin",
     "output_type": "stream",
     "text": [
      "> 4\n"
     ]
    },
    {
     "name": "stdout",
     "output_type": "stream",
     "text": [
      "\n",
      "===\n",
      "First, pick the word sense for the word 'GIVE'...\n",
      "Next, pick which hypernyms of GIVE.V.03 we should allow players to use...\n",
      "\n",
      " GIVE\n",
      "Is transfer.v.05 an appropriate substitute for give? (y/n)\n",
      "It means: cause to change ownership\n",
      "Synonyms are: ['transfer']\n"
     ]
    },
    {
     "name": "stdin",
     "output_type": "stream",
     "text": [
      "> n\n"
     ]
    },
    {
     "name": "stdout",
     "output_type": "stream",
     "text": [
      "\n",
      "Finally, pick which hyponyms of GIVE.V.03 we should allow players to use...\n",
      "\n",
      " GIVE\n",
      "Is accord.v.02 an appropriate substitute for give? (y/n)\n",
      "It means: allow to have\n",
      "Synonyms are: ['accord', 'allot', 'grant']\n"
     ]
    },
    {
     "name": "stdin",
     "output_type": "stream",
     "text": [
      "> x\n"
     ]
    },
    {
     "name": "stdout",
     "output_type": "stream",
     "text": [
      "First, pick the word sense for the word 'FISH'...\n",
      "Next, pick which hypernyms of FISH.N.01 we should allow players to use...\n",
      "\n",
      " FISH\n",
      "Is aquatic_vertebrate.n.01 an appropriate substitute for fish? (y/n)\n",
      "It means: animal living wholly or chiefly in or on water\n",
      "Synonyms are: ['aquatic vertebrate']\n"
     ]
    },
    {
     "name": "stdin",
     "output_type": "stream",
     "text": [
      "> n\n"
     ]
    },
    {
     "name": "stdout",
     "output_type": "stream",
     "text": [
      "\n",
      "Finally, pick which hyponyms of FISH.N.01 we should allow players to use...\n",
      "\n",
      " FISH\n",
      "Is bony_fish.n.01 an appropriate substitute for fish? (y/n)\n",
      "It means: any fish of the class Osteichthyes\n",
      "Synonyms are: ['bony fish']\n"
     ]
    },
    {
     "name": "stdin",
     "output_type": "stream",
     "text": [
      "> n\n"
     ]
    },
    {
     "name": "stdout",
     "output_type": "stream",
     "text": [
      "\n",
      "Is bottom-feeder.n.02 an appropriate substitute for fish? (y/n)\n",
      "It means: a fish that lives and feeds on the bottom of a body of water\n",
      "Synonyms are: ['bottom-feeder', 'bottom-dweller']\n"
     ]
    },
    {
     "name": "stdin",
     "output_type": "stream",
     "text": [
      "> n\n"
     ]
    },
    {
     "name": "stdout",
     "output_type": "stream",
     "text": [
      "\n",
      "Is bottom_lurkers.n.01 an appropriate substitute for fish? (y/n)\n",
      "It means: a fish that lurks on the bottom of a body of water\n",
      "Synonyms are: ['bottom lurkers']\n"
     ]
    },
    {
     "name": "stdin",
     "output_type": "stream",
     "text": [
      "> x\n"
     ]
    },
    {
     "name": "stdout",
     "output_type": "stream",
     "text": [
      "First, pick the word sense for the word 'TROLL'...\n",
      "Next, pick which hypernyms of TROLL.N.01 we should allow players to use...\n",
      "\n",
      " TROLL\n",
      "Is mythical_monster.n.01 an appropriate substitute for troll? (y/n)\n",
      "It means: a monster renowned in folklore and myth\n",
      "Synonyms are: ['mythical monster', 'mythical creature']\n"
     ]
    },
    {
     "name": "stdin",
     "output_type": "stream",
     "text": [
      "> y\n"
     ]
    },
    {
     "name": "stdout",
     "output_type": "stream",
     "text": [
      "\n",
      "Is monster.n.01 an appropriate substitute for troll? (y/n)\n",
      "It means: an imaginary creature usually having various human and animal parts\n",
      "Synonyms are: ['monster']\n"
     ]
    },
    {
     "name": "stdin",
     "output_type": "stream",
     "text": [
      "> y\n"
     ]
    },
    {
     "name": "stdout",
     "output_type": "stream",
     "text": [
      "\n",
      "Is mythical_being.n.01 an appropriate substitute for troll? (y/n)\n",
      "It means: an imaginary being of myth or fable\n",
      "Synonyms are: ['mythical being']\n"
     ]
    },
    {
     "name": "stdin",
     "output_type": "stream",
     "text": [
      "> n\n"
     ]
    },
    {
     "name": "stdout",
     "output_type": "stream",
     "text": [
      "\n",
      "Is imaginary_being.n.01 an appropriate substitute for troll? (y/n)\n",
      "It means: a creature of the imagination; a person that exists only in legends or myths or fiction\n",
      "Synonyms are: ['imaginary being', 'imaginary creature']\n"
     ]
    },
    {
     "name": "stdin",
     "output_type": "stream",
     "text": [
      "> x\n"
     ]
    },
    {
     "name": "stdout",
     "output_type": "stream",
     "text": [
      "Finally, pick which hyponyms of TROLL.N.01 we should allow players to use...\n",
      "\n",
      " TROLL\n",
      "First, pick the word sense for the word 'GO'...\n",
      "Next, pick which hypernyms of GO.V.02 we should allow players to use...\n",
      "\n",
      " GO\n",
      "Is act.v.01 an appropriate substitute for go? (y/n)\n",
      "It means: perform an action, or work out or perform (an action)\n",
      "Synonyms are: ['act', 'move']\n"
     ]
    },
    {
     "name": "stdin",
     "output_type": "stream",
     "text": [
      "> n\n"
     ]
    },
    {
     "name": "stdout",
     "output_type": "stream",
     "text": [
      "\n",
      "Finally, pick which hyponyms of GO.V.02 we should allow players to use...\n",
      "\n",
      " GO\n",
      "Is steamroller.v.02 an appropriate substitute for go? (y/n)\n",
      "It means: proceed with great force\n",
      "Synonyms are: ['steamroller', 'steamroll']\n"
     ]
    },
    {
     "name": "stdin",
     "output_type": "stream",
     "text": [
      "> n\n"
     ]
    },
    {
     "name": "stdout",
     "output_type": "stream",
     "text": [
      "\n",
      "Is venture.v.01 an appropriate substitute for go? (y/n)\n",
      "It means: proceed somewhere despite the risk of possible dangers\n",
      "Synonyms are: ['venture', 'embark']\n"
     ]
    },
    {
     "name": "stdin",
     "output_type": "stream",
     "text": [
      "> y\n"
     ]
    },
    {
     "name": "stdout",
     "output_type": "stream",
     "text": [
      "\n",
      "Is work.v.09 an appropriate substitute for go? (y/n)\n",
      "It means: proceed towards a goal or along a path or through an activity\n",
      "Synonyms are: ['work']\n"
     ]
    },
    {
     "name": "stdin",
     "output_type": "stream",
     "text": [
      "> n\n"
     ]
    },
    {
     "name": "stdout",
     "output_type": "stream",
     "text": [
      "\n",
      "First, pick the word sense for the word 'NORTH'...\n",
      "Next, pick which hypernyms of NORTH.N.05 we should allow players to use...\n",
      "\n",
      " NORTH\n",
      "Is direction.n.02 an appropriate substitute for north? (y/n)\n",
      "It means: the spatial relation between something and the course along which it points or moves\n",
      "Synonyms are: ['direction']\n"
     ]
    },
    {
     "name": "stdin",
     "output_type": "stream",
     "text": [
      "> n\n"
     ]
    },
    {
     "name": "stdout",
     "output_type": "stream",
     "text": [
      "\n",
      "Finally, pick which hyponyms of NORTH.N.05 we should allow players to use...\n",
      "\n",
      " NORTH\n",
      "You've done annotating!\n",
      "Saving your annotation to local file ('word-sense-annotations.json')...\n"
     ]
    },
    {
     "name": "stdin",
     "output_type": "stream",
     "text": [
      "> x\n"
     ]
    }
   ],
   "source": [
    "# Test cell\n",
    "\n",
    "print(\"ANNOTATING SYNSETS...\")\n",
    "word_senses = annotate_synsets(commands)\n",
    "confirmed_hyponyms = {}\n",
    "confirmed_hypernyms = {}\n",
    "\n",
    "for word in word_senses:\n",
    "    print(\"First, pick the word sense for the word '%s'...\" %word.upper())\n",
    "    word_sense = wn.synset(word_senses[word])\n",
    "    print(\"Next, pick which hypernyms of %s we should allow players to use...\" %word_sense.name().upper())\n",
    "    confirmed_hypernyms[word] = confirm_hyponyms(word, word_sense, do_hypernyms_instead=True)\n",
    "    print(\"Finally, pick which hyponyms of %s we should allow players to use...\" %word_sense.name().upper())\n",
    "    confirmed_hyponyms[word] = confirm_hyponyms(word, word_sense)\n",
    "\n",
    "print(\"You've done annotating!\")\n",
    "#save_to_file(word_sense, confirmed_hyponyms, confirmed_hypernyms)\n"
   ]
  },
  {
   "cell_type": "code",
   "execution_count": 42,
   "metadata": {},
   "outputs": [
    {
     "name": "stdout",
     "output_type": "stream",
     "text": [
      "Saving your annotation to local file ('word-sense-annotations.json')...\n"
     ]
    }
   ],
   "source": [
    "import json\n",
    "\n",
    "output_file = 'word-sense-annotations.json'\n",
    "output_json = {}\n",
    "output_json['senses'] = word_senses\n",
    "output_json['hyponyms'] = confirmed_hyponyms\n",
    "output_json['hypernyms'] = confirmed_hypernyms\n",
    "\n",
    "print(\"Saving your annotation to local file ('word-sense-annotations.json')...\")\n",
    "with open(output_file, 'w') as f:\n",
    "    json.dump(output_json, f, ensure_ascii=False, sort_keys=True, indent=4)"
   ]
  },
  {
   "cell_type": "markdown",
   "metadata": {},
   "source": [
    "### Look over Annotations"
   ]
  },
  {
   "cell_type": "code",
   "execution_count": 43,
   "metadata": {},
   "outputs": [],
   "source": [
    "# read from file\n",
    "(word_senses, confirmed_hypernyms, confirmed_hyponyms) = read_from_file()"
   ]
  },
  {
   "cell_type": "code",
   "execution_count": 44,
   "metadata": {},
   "outputs": [
    {
     "data": {
      "text/plain": [
       "{'fish': 'fish.n.01',\n",
       " 'give': 'give.v.03',\n",
       " 'go': 'go.v.02',\n",
       " 'north': 'north.n.05',\n",
       " 'troll': 'troll.n.01'}"
      ]
     },
     "execution_count": 44,
     "metadata": {},
     "output_type": "execute_result"
    }
   ],
   "source": [
    "word_senses"
   ]
  },
  {
   "cell_type": "code",
   "execution_count": 45,
   "metadata": {},
   "outputs": [
    {
     "name": "stdout",
     "output_type": "stream",
     "text": [
      "FISH\n",
      "Synonyms: ['fish']\n",
      "Hypernyms:\n",
      "Hyponyms:\n",
      "---\n",
      "GIVE\n",
      "Synonyms: ['give']\n",
      "Hypernyms:\n",
      "Hyponyms:\n",
      "---\n",
      "GO\n",
      "Synonyms: ['go', 'proceed', 'move']\n",
      "Hypernyms:\n",
      "Hyponyms:\n",
      "\t ['venture', 'embark']\n",
      "---\n",
      "NORTH\n",
      "Synonyms: ['north']\n",
      "Hypernyms:\n",
      "Hyponyms:\n",
      "---\n",
      "TROLL\n",
      "Synonyms: ['troll']\n",
      "Hypernyms:\n",
      "\t ['mythical monster', 'mythical creature']\n",
      "\t ['monster']\n",
      "Hyponyms:\n",
      "---\n"
     ]
    }
   ],
   "source": [
    "for word in word_senses:\n",
    "    print(word.upper())\n",
    "    word_sense = wn.synset(word_senses[word])\n",
    "    print(\"Synonyms:\", get_synonyms(word_sense))\n",
    "    \n",
    "    print(\"Hypernyms:\",)\n",
    "    for hypernym in confirmed_hypernyms[word]:\n",
    "        print(\"\\t\", get_synonyms(wn.synset(hypernym)))\n",
    "    \n",
    "    print(\"Hyponyms:\",)\n",
    "    hyponyms = confirmed_hyponyms[word]\n",
    "    for hyponym in hyponyms:\n",
    "        print(\"\\t\", get_synonyms(wn.synset(hyponym)))\n",
    "    print(\"---\")"
   ]
  },
  {
   "cell_type": "code",
   "execution_count": 46,
   "metadata": {},
   "outputs": [
    {
     "data": {
      "text/plain": [
       "{'fish': [], 'give': [], 'go': ['venture.v.01'], 'north': [], 'troll': []}"
      ]
     },
     "execution_count": 46,
     "metadata": {},
     "output_type": "execute_result"
    }
   ],
   "source": [
    "confirmed_hyponyms"
   ]
  },
  {
   "cell_type": "markdown",
   "metadata": {},
   "source": [
    "## Enumnerate Alternative Wordings of Commands\n",
    "Ouput a set of reasonably accurate paraphrases for the commands in our game"
   ]
  },
  {
   "cell_type": "code",
   "execution_count": 51,
   "metadata": {},
   "outputs": [],
   "source": [
    "import itertools\n",
    "\n",
    "def get_alternatives(word, word_senses, confirmed_hypernyms, confirmed_hyponyms):\n",
    "    \"\"\"\n",
    "    Create a list of reasonable alternative for a word by listing out the synonyms for its word sense, and for its hyponyms and hypernyms\n",
    "    \"\"\"\n",
    "    alternatives = []\n",
    "    if not word in word_senses:\n",
    "        alternatives.append(word)\n",
    "        return alternatives\n",
    "    \n",
    "    word_sense = wn.synset(word_senses[word])\n",
    "    alternatives.extend(get_synonyms(word_sense))\n",
    "    for hypernym in confirmed_hypernyms[word]:\n",
    "        alternatives.extend(get_synonyms(wn.synset(hypernym)))\n",
    "    for hyponym in confirmed_hyponyms[word]:\n",
    "        alternatives.extend(get_synonyms(wn.synset(hyponym)))\n",
    "    return alternatives\n",
    "\n",
    "\n",
    "def enumerate_alternatives(sentence, word_senses, confirmed_hypernyms, confirmed_hyponyms):\n",
    "    \"\"\"\n",
    "    Enumerate all of the sentences that can result\n",
    "    by taking any combination of the alternates for each word in the sentence\n",
    "    \"\"\"\n",
    "    words = word_tokenize(sentence.lower())\n",
    "    # 2-D list\n",
    "    alternatives_per_word = []\n",
    "    for word in words:\n",
    "        alternatives = get_alternatives(word, word_senses, confirmed_hypernyms, confirmed_hyponyms)\n",
    "        alternatives_per_word.append(alternatives)\n",
    "    \n",
    "    # combination of 2-D lists\n",
    "    alternative_to_original = {}\n",
    "    for word in list(itertools.product(*alternatives_per_word)):\n",
    "        alt_sent = \" \".join(words)\n",
    "        alternative_to_original[alt_sent] = sentence\n",
    "    return alternative_to_original"
   ]
  },
  {
   "cell_type": "code",
   "execution_count": 50,
   "metadata": {},
   "outputs": [
    {
     "name": "stdout",
     "output_type": "stream",
     "text": [
      "give fish to troll => give fish to troll\n",
      "go north => go north\n",
      "Congratulations, you can now handle 2 commands instead of just 2!\n"
     ]
    }
   ],
   "source": [
    "alternative_commands = {}\n",
    "for command in commands:\n",
    "    alternative_commands.update(enumerate_alternatives(command,\n",
    "                                                        word_senses,\n",
    "                                                        confirmed_hypernyms,\n",
    "                                                        confirmed_hyponyms))\n",
    "\n",
    "for alt_sent in alternative_commands:\n",
    "    print(\"%s => %s\" %(alt_sent, alternative_commands[alt_sent]))\n",
    "print(\"Congratulations, you can now handle %d commands instead of just %d!\" %(len(alternative_commands.keys()), len(commands)))"
   ]
  },
  {
   "cell_type": "code",
   "execution_count": null,
   "metadata": {},
   "outputs": [],
   "source": []
  }
 ],
 "metadata": {
  "kernelspec": {
   "display_name": "Python 3.8.8 64-bit ('nlp': conda)",
   "language": "python",
   "name": "python388jvsc74a57bd0cfac66161ae91176b189fc5d840229a5daa938976225f5ac7dd7199e440d2efc"
  },
  "language_info": {
   "codemirror_mode": {
    "name": "ipython",
    "version": 3
   },
   "file_extension": ".py",
   "mimetype": "text/x-python",
   "name": "python",
   "nbconvert_exporter": "python",
   "pygments_lexer": "ipython3",
   "version": "3.8.8"
  },
  "metadata": {
   "interpreter": {
    "hash": "cfac66161ae91176b189fc5d840229a5daa938976225f5ac7dd7199e440d2efc"
   }
  }
 },
 "nbformat": 4,
 "nbformat_minor": 4
}