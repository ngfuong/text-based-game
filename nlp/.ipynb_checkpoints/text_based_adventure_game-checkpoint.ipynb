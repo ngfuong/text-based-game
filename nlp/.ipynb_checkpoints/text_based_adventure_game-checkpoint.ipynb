{
 "cells": [
  {
   "cell_type": "code",
   "execution_count": 1,
   "metadata": {},
   "outputs": [],
   "source": [
    "#import nltk\n",
    "#nltk.download('wordnet')\n",
    "#nltk.download('punkt')"
   ]
  },
  {
   "cell_type": "code",
   "execution_count": 1,
   "metadata": {},
   "outputs": [],
   "source": [
    "import nltk\n",
    "from nltk.corpus import wordnet as wn\n",
    "from nltk.tokenize import word_tokenize"
   ]
  },
  {
   "cell_type": "markdown",
   "metadata": {},
   "source": [
    "## Word Senses\n",
    "Words can have multiple meanings. WordNet organizes word senses into a structure called synsets.\n",
    "\n",
    "Each word can have multiple synsets, each synset represents a different meaning of that word."
   ]
  },
  {
   "cell_type": "code",
   "execution_count": 2,
   "metadata": {},
   "outputs": [
    {
     "name": "stdout",
     "output_type": "stream",
     "text": [
      "Sense 0: bug.n.01\n",
      "Definition: general term for any insect or similar creeping or crawling invertebrate\n",
      "Synonyms: ['bug']\n",
      "\n",
      "Sense 1: bug.n.02\n",
      "Definition: a fault or defect in a computer program, system, or machine\n",
      "Synonyms: ['bug', 'glitch']\n",
      "\n",
      "Sense 2: bug.n.03\n",
      "Definition: a small hidden microphone; for listening secretly\n",
      "Synonyms: ['bug']\n",
      "\n",
      "Sense 3: hemipterous_insect.n.01\n",
      "Definition: insects with sucking mouthparts and forewings thickened and leathery at the base; usually show incomplete metamorphosis\n",
      "Synonyms: ['hemipterous insect', 'bug', 'hemipteran', 'hemipteron']\n",
      "\n",
      "Sense 4: microbe.n.01\n",
      "Definition: a minute life form (especially a disease-causing bacterium); the term is not in technical use\n",
      "Synonyms: ['microbe', 'bug', 'germ']\n",
      "\n",
      "Sense 5: tease.v.01\n",
      "Definition: annoy persistently\n",
      "Synonyms: ['tease', 'badger', 'pester', 'bug', 'beleaguer']\n",
      "\n",
      "Sense 6: wiretap.v.01\n",
      "Definition: tap a telephone or telegraph wire to get information\n",
      "Synonyms: ['wiretap', 'tap', 'intercept', 'bug']\n",
      "\n"
     ]
    }
   ],
   "source": [
    "def get_senses(word):\n",
    "    \"\"\"\n",
    "    Returns a list of senses (synsets) of a word\n",
    "    \"\"\"\n",
    "    word_senses = wn.synsets(word)\n",
    "    return word_senses\n",
    "\n",
    "def get_definition(word_sense):\n",
    "    return word_sense.definition()\n",
    "\n",
    "def get_synonyms(word_sense):\n",
    "    synonyms = []\n",
    "    for lemma in word_sense.lemmas():\n",
    "        synonym = lemma.name().replace('_', ' ')\n",
    "        synonyms.append(synonym)\n",
    "    return synonyms\n",
    "\n",
    "# Example: bug\n",
    "word_senses = get_senses(\"bug\")\n",
    "for i, word_sense in enumerate(word_senses):\n",
    "    print(\"Sense %d: %s\" %(i, word_sense.name()))\n",
    "    print(\"Definition:\", get_definition(word_sense))\n",
    "    print(\"Synonyms:\", get_synonyms(word_sense))\n",
    "    print()"
   ]
  },
  {
   "cell_type": "markdown",
   "metadata": {},
   "source": [
    "## Hypernyms/Hyponyms\n",
    "For example, red is a specific kind of color, or microbe is a kind of organism. These are example of hyponym relationships. If X is-a Y then X is a hyponym of Y, and Y is a hypernym of X. So red is a hyponym of color and color is a hypernym of red.\n",
    "\n",
    "In WordNet, each word sense (synset) has its own hypernyms and hyponyms."
   ]
  },
  {
   "cell_type": "code",
   "execution_count": 3,
   "metadata": {},
   "outputs": [
    {
     "name": "stdout",
     "output_type": "stream",
     "text": [
      "\n",
      "Sense 0: bug.n.01 (general term for any insect or similar creeping or crawling invertebrate)\n",
      "Hypernyms:\n",
      "bug.n.01 \tis a\t insect.n.01\n",
      "insect.n.01 \tis a\t arthropod.n.01\n",
      "arthropod.n.01 \tis a\t invertebrate.n.01\n",
      "invertebrate.n.01 \tis a\t animal.n.01\n",
      "animal.n.01 \tis a\t organism.n.01\n",
      "organism.n.01 \tis a\t living_thing.n.01\n",
      "living_thing.n.01 \tis a\t whole.n.02\n",
      "whole.n.02 \tis a\t object.n.01\n",
      "object.n.01 \tis a\t physical_entity.n.01\n",
      "physical_entity.n.01 \tis a\t entity.n.01\n",
      "\n",
      "Sense 1: bug.n.02 (a fault or defect in a computer program, system, or machine)\n",
      "Hypernyms:\n",
      "bug.n.02 \tis a\t defect.n.03\n",
      "defect.n.03 \tis a\t imperfection.n.01\n",
      "imperfection.n.01 \tis a\t state.n.02\n",
      "state.n.02 \tis a\t attribute.n.02\n",
      "attribute.n.02 \tis a\t abstraction.n.06\n",
      "abstraction.n.06 \tis a\t entity.n.01\n",
      "\n",
      "Sense 2: bug.n.03 (a small hidden microphone; for listening secretly)\n",
      "Hypernyms:\n",
      "bug.n.03 \tis a\t microphone.n.01\n",
      "microphone.n.01 \tis a\t electro-acoustic_transducer.n.01\n",
      "electro-acoustic_transducer.n.01 \tis a\t transducer.n.01\n",
      "transducer.n.01 \tis a\t electrical_device.n.01\n",
      "electrical_device.n.01 \tis a\t device.n.01\n",
      "device.n.01 \tis a\t instrumentality.n.03\n",
      "instrumentality.n.03 \tis a\t artifact.n.01\n",
      "artifact.n.01 \tis a\t whole.n.02\n",
      "whole.n.02 \tis a\t object.n.01\n",
      "object.n.01 \tis a\t physical_entity.n.01\n",
      "physical_entity.n.01 \tis a\t entity.n.01\n",
      "\n",
      "Sense 3: hemipterous_insect.n.01 (insects with sucking mouthparts and forewings thickened and leathery at the base; usually show incomplete metamorphosis)\n",
      "Hypernyms:\n",
      "hemipterous_insect.n.01 \tis a\t insect.n.01\n",
      "insect.n.01 \tis a\t arthropod.n.01\n",
      "arthropod.n.01 \tis a\t invertebrate.n.01\n",
      "invertebrate.n.01 \tis a\t animal.n.01\n",
      "animal.n.01 \tis a\t organism.n.01\n",
      "organism.n.01 \tis a\t living_thing.n.01\n",
      "living_thing.n.01 \tis a\t whole.n.02\n",
      "whole.n.02 \tis a\t object.n.01\n",
      "object.n.01 \tis a\t physical_entity.n.01\n",
      "physical_entity.n.01 \tis a\t entity.n.01\n",
      "\n",
      "Sense 4: microbe.n.01 (a minute life form (especially a disease-causing bacterium); the term is not in technical use)\n",
      "Hypernyms:\n",
      "microbe.n.01 \tis a\t microorganism.n.01\n",
      "microorganism.n.01 \tis a\t organism.n.01\n",
      "organism.n.01 \tis a\t living_thing.n.01\n",
      "living_thing.n.01 \tis a\t whole.n.02\n",
      "whole.n.02 \tis a\t object.n.01\n",
      "object.n.01 \tis a\t physical_entity.n.01\n",
      "physical_entity.n.01 \tis a\t entity.n.01\n",
      "\n",
      "Sense 5: tease.v.01 (annoy persistently)\n",
      "Hypernyms:\n",
      "tease.v.01 \tis a\t torment.v.02\n",
      "torment.v.02 \tis a\t harass.v.01\n",
      "harass.v.01 \tis a\t annoy.v.01\n",
      "annoy.v.01 \tis a\t displease.v.01\n",
      "\n",
      "Sense 6: wiretap.v.01 (tap a telephone or telegraph wire to get information)\n",
      "Hypernyms:\n",
      "wiretap.v.01 \tis a\t listen_in.v.02\n",
      "listen_in.v.02 \tis a\t listen.v.01\n",
      "listen.v.01 \tis a\t perceive.v.01\n"
     ]
    }
   ],
   "source": [
    "hyper = lambda s: s.hypernyms()\n",
    "hypo = lambda s: s.hyponyms()\n",
    "\n",
    "def get_hypernyms(word_sense, depth=5):\n",
    "    return list(word_sense.closure(hyper, depth=depth))\n",
    "\n",
    "def get_hyponyms(word_sense, depth=5):\n",
    "    return list(word_sense.closure(hypo, depth=depth))\n",
    "\n",
    "# Example: bug\n",
    "word_senses = get_senses(\"bug\")\n",
    "for i, word_sense in enumerate(word_senses):\n",
    "    \"\"\"\n",
    "    The synset names include a word from the set of synonyms,\n",
    "    plus a POS (n for noun, v for verb) and\n",
    "    the number of the sense (sense 01 is the most common sense)\n",
    "    \"\"\"\n",
    "    print(\"\\nSense %d: %s (%s)\" %(i, word_sense.name(), get_definition(word_sense)))\n",
    "    print(\"Hypernyms:\")\n",
    "    hypernyms = word_sense.hypernyms()\n",
    "    while len(hypernyms)>0:\n",
    "        print(word_sense.name(),\"\\tis a\\t\",hypernyms[0].name())\n",
    "        word_sense = hypernyms[0]\n",
    "        hypernyms = word_sense.hypernyms()"
   ]
  },
  {
   "cell_type": "markdown",
   "metadata": {},
   "source": [
    "## Manually annotate Senses and Hypernyms/Hyponyms\n"
   ]
  },
  {
   "cell_type": "code",
   "execution_count": 4,
   "metadata": {},
   "outputs": [],
   "source": [
    "def annotate_synsets(sentences):\n",
    "  \"\"\"This function queries WordNet for each word in a list of sentences,\n",
    "     and asks the user to input a number corresponding to the synset.\"\"\"\n",
    "  \n",
    "  word_senses = {}\n",
    "  # Cached selections maps from word string to the previous\n",
    "  # selection for this word (an integer)\n",
    "  cached_selections = {}\n",
    "\n",
    "  for i, sent in enumerate(sentences):\n",
    "    print(\"-----------\\n%s\\n----------\" %sent.upper())\n",
    "    words = word_tokenize(sent.lower())\n",
    "\n",
    "    for word in words:\n",
    "      sysnsets = wn.synsets(word)\n",
    "      if len(sysnsets) != 0:\n",
    "        selection = select_synset(sent, word, sysnsets, cached_selections)\n",
    "        if selection != None:\n",
    "          cached_selections[word] = selection\n",
    "          if selection < len(sysnsets):\n",
    "            s = sysnsets[selection]\n",
    "            word_senses[word] = s.name()\n",
    "      print()\n",
    "  print(\"===\")\n",
    "  return word_senses\n",
    "\n",
    "\n",
    "def select_synset(sent, word, sysnsets, cached_selections):\n",
    "  \"\"\"Ask the user to select which sense of the word  \n",
    "     is being used in this sentence.\"\"\"\n",
    "  print(word.upper())\n",
    "\n",
    "  prev_selection = -1\n",
    "  if word in cached_selections:\n",
    "    prev_selection = cached_selections[word]\n",
    "\n",
    "  for choice, s in enumerate(sysnsets):\n",
    "    if choice == prev_selection:\n",
    "      print(\"*** \", end = '')\n",
    "    print(\"%d) %s - %s\" % (choice, s.name(), s.definition()))\n",
    "\n",
    "  choice += 1\n",
    "  if choice == prev_selection:\n",
    "    print(\"*** \", end = '')\n",
    "  print(\"%d) None of these.\" % choice)\n",
    "\n",
    "  selection = -1\n",
    "  while selection == -1:\n",
    "    try:\n",
    "      user_input = input(\">\")\n",
    "      if user_input.strip() == 'x':\n",
    "        # The user can press 'x' to exit.\n",
    "        return None\n",
    "      if user_input.strip() == '' and prev_selection > -1:\n",
    "        # The user can press retrun to confirm the previous selection.\n",
    "        return prev_selection\n",
    "      selection = int(user_input)\n",
    "    except:\n",
    "      selection = -1\n",
    "    if selection < 0 or selection > len(sysnsets):\n",
    "      print(\"Please select a number between 0-%d, or type 'x' to exit\" % len(sysnsets))\n",
    "      if prev_selection > -1:\n",
    "        print(\"You can also press return to confirm the previous selection (marked by ***).\")\n",
    "    else:\n",
    "      return selection\n",
    "\n",
    "\n",
    "def confirm_hyponyms(word, sysnset, do_hypernyms_instead=False):\n",
    "  \"\"\"Ask the user to confirm which of the hyponyms are applicable \n",
    "     for this sentence.\"\"\"\n",
    "  print(\"\\n\",word.upper())\n",
    "\n",
    "  confirmed = []\n",
    "  if do_hypernyms_instead:\n",
    "    unconfirmed = sysnset.hypernyms()\n",
    "  else:\n",
    "    unconfirmed = sysnset.hyponyms()\n",
    "\n",
    "  while len(unconfirmed) > 0:\n",
    "    s = unconfirmed.pop(0)\n",
    "    print(\"Is %s an appropriate substitute for %s? (y/n)\" % (s.name(), word))\n",
    "    print(\"It means:\", s.definition())\n",
    "    print(\"Synonyms are:\", get_synonyms(s))\n",
    "    user_input = ''\n",
    "    while user_input == '':\n",
    "      user_input = input(\">\")\n",
    "      user_input = user_input.strip()\n",
    "      if user_input == 'y' or user_input == 'yes':\n",
    "        confirmed.append(s.name())\n",
    "        if do_hypernyms_instead:\n",
    "          unconfirmed.extend(s.hypernyms())\n",
    "        else:\n",
    "          unconfirmed.extend(s.hyponyms())\n",
    "        \n",
    "      elif user_input == 'n' or user_input == 'no':\n",
    "        pass\n",
    "      elif user_input == 'x':\n",
    "        # The user can press 'x' to exit.\n",
    "        return confirmed\n",
    "      else:\n",
    "        print(\"Please type 'yes' or 'no' or 'x' to stop confirming for this word\")\n",
    "        user_input = ''\n",
    "      print()\n",
    "  return confirmed\n",
    "\n",
    "# Save your annotations to a file, so that you can submit them with your homework.\n",
    "def save_to_drive(word_senses, confirmed_hyponyms, confirmed_hypernyms):\n",
    "  import json\n",
    "  from google.colab import drive\n",
    "  drive.mount('/content/drive/')\n",
    "\n",
    "  output_file = '/content/drive/My Drive/word-sense-annotations.json'\n",
    "  output_json = {}\n",
    "  output_json['senses'] = word_senses\n",
    "  output_json['hyponyms'] = confirmed_hyponyms\n",
    "  output_json['hypernyms'] = confirmed_hypernyms\n",
    "\n",
    "  with open(output_file, 'w') as write_file:\n",
    "    write_file.write(json.dumps(output_json, sort_keys=True, indent=4))\n",
    "    write_file.write('\\n')\n",
    "\n",
    "#TODO: Sua loi huhu !!!!!!!!!!!!!!!!!\n",
    "def save_to_file(word_senses, confirmed_hyponyms, confirmed_hypernyms):\n",
    "  import json\n",
    "\n",
    "  output_file = 'word-sense-annotations.json'\n",
    "  output_json = {}\n",
    "  output_json['senses'] = word_senses\n",
    "  output_json['hyponyms'] = confirmed_hyponyms\n",
    "  output_json['hypernyms'] = confirmed_hypernyms\n",
    "\n",
    "  with open(output_file, 'w') as f:\n",
    "      json.dump(output_json, f, ensure_ascii=False, sort_keys=True, indent=4)"
   ]
  },
  {
   "cell_type": "code",
   "execution_count": 5,
   "metadata": {},
   "outputs": [],
   "source": [
    "commands = [\n",
    "    'pick rose'\n",
    "]"
   ]
  },
  {
   "cell_type": "code",
   "execution_count": 6,
   "metadata": {
    "tags": [
     "outputPrepend"
    ]
   },
   "outputs": [
    {
     "name": "stdout",
     "output_type": "stream",
     "text": [
      "ANNOTATING SYNSETS...\n",
      "-----------\n",
      "PICK ROSE\n",
      "----------\n",
      "PICK\n",
      "0) choice.n.01 - the person or thing chosen or selected\n",
      "1) picking.n.01 - the quantity of a crop that is harvested\n",
      "2) cream.n.01 - the best people or things in a group\n",
      "3) woof.n.01 - the yarn woven across the warp yarn in weaving\n",
      "4) pick.n.05 - a small thin device (of metal or plastic or ivory) used to pluck a stringed instrument\n",
      "5) pick.n.06 - a thin sharp implement used for removing unwanted material\n",
      "6) pick.n.07 - a heavy iron tool with a wooden handle and a curved head that is pointed on both ends\n",
      "7) pick.n.08 - a basketball maneuver; obstructing an opponent with one's body\n",
      "8) choice.n.02 - the act of choosing or selecting\n",
      "9) pick.v.01 - select carefully from a group\n",
      "10) pick.v.02 - look for and gather\n",
      "11) blame.v.02 - harass with constant criticism\n",
      "12) pick.v.04 - provoke\n",
      "13) pick.v.05 - remove in small bits\n",
      "14) clean.v.02 - remove unwanted substances from, such as feathers or pits\n",
      "15) pick.v.07 - pilfer or rob\n",
      "16) foot.v.01 - pay for something\n",
      "17) pluck.v.04 - pull lightly but sharply with a plucking motion\n",
      "18) pick.v.10 - attack with or as if with a pickaxe of ice or rocky ground, for example\n",
      "19) peck.v.01 - hit lightly with a picking motion\n",
      "20) nibble.v.03 - eat intermittently; take small bites of\n",
      "21) None of these.\n"
     ]
    },
    {
     "name": "stdin",
     "output_type": "stream",
     "text": [
      "> 9\n"
     ]
    },
    {
     "name": "stdout",
     "output_type": "stream",
     "text": [
      "\n",
      "ROSE\n",
      "0) rose.n.01 - any of many shrubs of the genus Rosa that bear roses\n",
      "1) blush_wine.n.01 - pinkish table wine from red grapes whose skins were removed after fermentation began\n",
      "2) rose.n.03 - a dusty pink color\n",
      "3) rise.v.01 - move upward\n",
      "4) rise.v.02 - increase in value or to a higher point\n",
      "5) arise.v.03 - rise to one's feet\n",
      "6) rise.v.04 - rise up\n",
      "7) surface.v.01 - come to the surface\n",
      "8) originate.v.01 - come into existence; take on form or shape\n",
      "9) ascend.v.08 - move to a better position in life or to a better job; \"She ascended from a life of poverty to one of great\n",
      "10) wax.v.02 - go up or advance\n",
      "11) heighten.v.01 - become more extreme\n",
      "12) get_up.v.02 - get up and out of bed\n",
      "13) rise.v.11 - rise in rank or status\n",
      "14) rise.v.12 - become heartened or elated\n",
      "15) rise.v.13 - exert oneself to meet a challenge\n",
      "16) rebel.v.01 - take part in a rebellion; renounce a former allegiance\n",
      "17) rise.v.15 - increase in volume\n",
      "18) rise.v.16 - come up, of celestial bodies\n",
      "19) resurrect.v.03 - return from the dead\n",
      "20) rose.s.01 - of something having a dusty purplish pink color\n",
      "21) None of these.\n"
     ]
    },
    {
     "name": "stdin",
     "output_type": "stream",
     "text": [
      "> 0\n"
     ]
    },
    {
     "name": "stdout",
     "output_type": "stream",
     "text": [
      "\n",
      "===\n",
      "First, pick the word sense for the word 'PICK'...\n",
      "Next, pick which hypernyms of PICK.V.01 we should allow players to use...\n",
      "\n",
      " PICK\n",
      "Is choose.v.01 an appropriate substitute for pick? (y/n)\n",
      "It means: pick out, select, or choose from a number of alternatives\n",
      "Synonyms are: ['choose', 'take', 'select', 'pick out']\n"
     ]
    },
    {
     "name": "stdin",
     "output_type": "stream",
     "text": [
      "> y\n"
     ]
    },
    {
     "name": "stdout",
     "output_type": "stream",
     "text": [
      "\n",
      "Is decide.v.01 an appropriate substitute for pick? (y/n)\n",
      "It means: reach, make, or come to a decision about something\n",
      "Synonyms are: ['decide', \"make up one's mind\", 'determine']\n"
     ]
    },
    {
     "name": "stdin",
     "output_type": "stream",
     "text": [
      "> n\n"
     ]
    },
    {
     "name": "stdout",
     "output_type": "stream",
     "text": [
      "\n",
      "Finally, pick which hyponyms of PICK.V.01 we should allow players to use...\n",
      "\n",
      " PICK\n",
      "Is hand-pick.v.01 an appropriate substitute for pick? (y/n)\n",
      "It means: pick personally and very carefully\n",
      "Synonyms are: ['hand-pick']\n"
     ]
    },
    {
     "name": "stdin",
     "output_type": "stream",
     "text": [
      "> y\n"
     ]
    },
    {
     "name": "stdout",
     "output_type": "stream",
     "text": [
      "\n",
      "First, pick the word sense for the word 'ROSE'...\n",
      "Next, pick which hypernyms of ROSE.N.01 we should allow players to use...\n",
      "\n",
      " ROSE\n",
      "Is shrub.n.01 an appropriate substitute for rose? (y/n)\n",
      "It means: a low woody perennial plant usually having several major stems\n",
      "Synonyms are: ['shrub', 'bush']\n"
     ]
    },
    {
     "name": "stdin",
     "output_type": "stream",
     "text": [
      "> x\n"
     ]
    },
    {
     "name": "stdout",
     "output_type": "stream",
     "text": [
      "Finally, pick which hyponyms of ROSE.N.01 we should allow players to use...\n",
      "\n",
      " ROSE\n",
      "Is banksia_rose.n.01 an appropriate substitute for rose? (y/n)\n",
      "It means: Chinese evergreen climbing rose with yellow or white single flowers\n",
      "Synonyms are: ['banksia rose', 'Rosa banksia']\n"
     ]
    },
    {
     "name": "stdin",
     "output_type": "stream",
     "text": [
      "> x\n"
     ]
    },
    {
     "name": "stdout",
     "output_type": "stream",
     "text": [
      "You've done annotating!\n",
      "Saving your annotation to local file ('word-sense-annotations.json')...\n"
     ]
    },
    {
     "ename": "NameError",
     "evalue": "name 'json' is not defined",
     "output_type": "error",
     "traceback": [
      "\u001b[0;31m---------------------------------------------------------------------------\u001b[0m",
      "\u001b[0;31mNameError\u001b[0m                                 Traceback (most recent call last)",
      "\u001b[0;32m<ipython-input-6-c7134d2880f2>\u001b[0m in \u001b[0;36m<module>\u001b[0;34m\u001b[0m\n\u001b[1;32m     24\u001b[0m \u001b[0;34m\u001b[0m\u001b[0m\n\u001b[1;32m     25\u001b[0m \u001b[0;32mwith\u001b[0m \u001b[0mopen\u001b[0m\u001b[0;34m(\u001b[0m\u001b[0moutput_file\u001b[0m\u001b[0;34m,\u001b[0m \u001b[0;34m'w'\u001b[0m\u001b[0;34m)\u001b[0m \u001b[0;32mas\u001b[0m \u001b[0mf\u001b[0m\u001b[0;34m:\u001b[0m\u001b[0;34m\u001b[0m\u001b[0;34m\u001b[0m\u001b[0m\n\u001b[0;32m---> 26\u001b[0;31m     \u001b[0mjson\u001b[0m\u001b[0;34m.\u001b[0m\u001b[0mdump\u001b[0m\u001b[0;34m(\u001b[0m\u001b[0moutput_json\u001b[0m\u001b[0;34m,\u001b[0m \u001b[0mf\u001b[0m\u001b[0;34m,\u001b[0m \u001b[0mensure_ascii\u001b[0m\u001b[0;34m=\u001b[0m\u001b[0;32mFalse\u001b[0m\u001b[0;34m,\u001b[0m \u001b[0msort_keys\u001b[0m\u001b[0;34m=\u001b[0m\u001b[0;32mTrue\u001b[0m\u001b[0;34m,\u001b[0m \u001b[0mindent\u001b[0m\u001b[0;34m=\u001b[0m\u001b[0;36m4\u001b[0m\u001b[0;34m)\u001b[0m\u001b[0;34m\u001b[0m\u001b[0;34m\u001b[0m\u001b[0m\n\u001b[0m",
      "\u001b[0;31mNameError\u001b[0m: name 'json' is not defined"
     ]
    }
   ],
   "source": [
    "# Test cell\n",
    "#TODO: SUA LOI HUHU\n",
    "print(\"ANNOTATING SYNSETS...\")\n",
    "word_senses = annotate_synsets(commands)\n",
    "confirmed_hyponyms = {}\n",
    "confirmed_hypernyms = {}\n",
    "\n",
    "for word in word_senses:\n",
    "    print(\"First, pick the word sense for the word '%s'...\" %word.upper())\n",
    "    word_sense = wn.synset(word_senses[word])\n",
    "    print(\"Next, pick which hypernyms of %s we should allow players to use...\" %word_sense.name().upper())\n",
    "    confirmed_hypernyms[word] = confirm_hyponyms(word, word_sense, do_hypernyms_instead=True)\n",
    "    print(\"Finally, pick which hyponyms of %s we should allow players to use...\" %word_sense.name().upper())\n",
    "    confirmed_hyponyms[word] = confirm_hyponyms(word, word_sense)\n",
    "\n",
    "print(\"You've done annotating!\")\n",
    "print(\"Saving your annotation to local file ('word-sense-annotations.json')...\")\n",
    "#save_to_file(word_sense, confirmed_hyponyms, confirmed_hypernyms)\n"
   ]
  },
  {
   "cell_type": "code",
   "execution_count": 7,
   "metadata": {},
   "outputs": [],
   "source": [
    "import json\n",
    "\n",
    "output_file = 'word-sense-annotations.json'\n",
    "output_json = {}\n",
    "output_json['senses'] = word_senses\n",
    "output_json['hyponyms'] = confirmed_hyponyms\n",
    "output_json['hypernyms'] = confirmed_hypernyms\n",
    "\n",
    "with open(output_file, 'w') as f:\n",
    "    json.dump(output_json, f, ensure_ascii=False, sort_keys=True, indent=4)"
   ]
  },
  {
   "cell_type": "markdown",
   "metadata": {},
   "source": [
    "### Look over Annotations"
   ]
  },
  {
   "cell_type": "code",
   "execution_count": 8,
   "metadata": {},
   "outputs": [
    {
     "name": "stdout",
     "output_type": "stream",
     "text": [
      "PICK\n",
      "Synonyms: ['pick']\n",
      "Hypernyms:\n"
     ]
    },
    {
     "ename": "ValueError",
     "evalue": "not enough values to unpack (expected 3, got 1)",
     "output_type": "error",
     "traceback": [
      "\u001b[0;31m---------------------------------------------------------------------------\u001b[0m",
      "\u001b[0;31mValueError\u001b[0m                                Traceback (most recent call last)",
      "\u001b[0;32m<ipython-input-8-c6fe34b4ac9b>\u001b[0m in \u001b[0;36m<module>\u001b[0;34m\u001b[0m\n\u001b[1;32m      6\u001b[0m     \u001b[0mprint\u001b[0m\u001b[0;34m(\u001b[0m\u001b[0;34m\"Hypernyms:\"\u001b[0m\u001b[0;34m,\u001b[0m\u001b[0;34m)\u001b[0m\u001b[0;34m\u001b[0m\u001b[0;34m\u001b[0m\u001b[0m\n\u001b[1;32m      7\u001b[0m     \u001b[0;32mfor\u001b[0m \u001b[0mhypernym\u001b[0m \u001b[0;32min\u001b[0m \u001b[0mconfirmed_hypernyms\u001b[0m\u001b[0;34m:\u001b[0m\u001b[0;34m\u001b[0m\u001b[0;34m\u001b[0m\u001b[0m\n\u001b[0;32m----> 8\u001b[0;31m         \u001b[0mprint\u001b[0m\u001b[0;34m(\u001b[0m\u001b[0;34m\"\\t\"\u001b[0m\u001b[0;34m,\u001b[0m \u001b[0mget_synonyms\u001b[0m\u001b[0;34m(\u001b[0m\u001b[0mwn\u001b[0m\u001b[0;34m.\u001b[0m\u001b[0msynset\u001b[0m\u001b[0;34m(\u001b[0m\u001b[0mhypernym\u001b[0m\u001b[0;34m)\u001b[0m\u001b[0;34m)\u001b[0m\u001b[0;34m)\u001b[0m\u001b[0;34m\u001b[0m\u001b[0;34m\u001b[0m\u001b[0m\n\u001b[0m\u001b[1;32m      9\u001b[0m \u001b[0;34m\u001b[0m\u001b[0m\n\u001b[1;32m     10\u001b[0m     \u001b[0mprint\u001b[0m\u001b[0;34m(\u001b[0m\u001b[0;34m\"Hyponyms:\"\u001b[0m\u001b[0;34m,\u001b[0m\u001b[0;34m)\u001b[0m\u001b[0;34m\u001b[0m\u001b[0;34m\u001b[0m\u001b[0m\n",
      "\u001b[0;32m/usr/local/lib/python3.8/dist-packages/nltk/corpus/reader/wordnet.py\u001b[0m in \u001b[0;36msynset\u001b[0;34m(self, name)\u001b[0m\n\u001b[1;32m   1319\u001b[0m     \u001b[0;32mdef\u001b[0m \u001b[0msynset\u001b[0m\u001b[0;34m(\u001b[0m\u001b[0mself\u001b[0m\u001b[0;34m,\u001b[0m \u001b[0mname\u001b[0m\u001b[0;34m)\u001b[0m\u001b[0;34m:\u001b[0m\u001b[0;34m\u001b[0m\u001b[0;34m\u001b[0m\u001b[0m\n\u001b[1;32m   1320\u001b[0m         \u001b[0;31m# split name into lemma, part of speech and synset number\u001b[0m\u001b[0;34m\u001b[0m\u001b[0;34m\u001b[0m\u001b[0;34m\u001b[0m\u001b[0m\n\u001b[0;32m-> 1321\u001b[0;31m         \u001b[0mlemma\u001b[0m\u001b[0;34m,\u001b[0m \u001b[0mpos\u001b[0m\u001b[0;34m,\u001b[0m \u001b[0msynset_index_str\u001b[0m \u001b[0;34m=\u001b[0m \u001b[0mname\u001b[0m\u001b[0;34m.\u001b[0m\u001b[0mlower\u001b[0m\u001b[0;34m(\u001b[0m\u001b[0;34m)\u001b[0m\u001b[0;34m.\u001b[0m\u001b[0mrsplit\u001b[0m\u001b[0;34m(\u001b[0m\u001b[0;34m\".\"\u001b[0m\u001b[0;34m,\u001b[0m \u001b[0;36m2\u001b[0m\u001b[0;34m)\u001b[0m\u001b[0;34m\u001b[0m\u001b[0;34m\u001b[0m\u001b[0m\n\u001b[0m\u001b[1;32m   1322\u001b[0m         \u001b[0msynset_index\u001b[0m \u001b[0;34m=\u001b[0m \u001b[0mint\u001b[0m\u001b[0;34m(\u001b[0m\u001b[0msynset_index_str\u001b[0m\u001b[0;34m)\u001b[0m \u001b[0;34m-\u001b[0m \u001b[0;36m1\u001b[0m\u001b[0;34m\u001b[0m\u001b[0;34m\u001b[0m\u001b[0m\n\u001b[1;32m   1323\u001b[0m \u001b[0;34m\u001b[0m\u001b[0m\n",
      "\u001b[0;31mValueError\u001b[0m: not enough values to unpack (expected 3, got 1)"
     ]
    }
   ],
   "source": [
    "for word in word_senses:\n",
    "    print(word.upper())\n",
    "    word_sense = wn.synset(word_senses[word])\n",
    "    print(\"Synonyms:\", get_synonyms(word_sense))\n",
    "    \n",
    "    print(\"Hypernyms:\",)\n",
    "    for hypernym in confirmed_hypernyms:\n",
    "        print(\"\\t\", get_synonyms(wn.synset(hypernym)))\n",
    "    \n",
    "    print(\"Hyponyms:\",)\n",
    "    hyponyms = confirmed_hyponyms[word]\n",
    "    for hyponym in hyponyms:\n",
    "        print(\"\\t\", get_synonyms(wn.synset(hyponym)))\n",
    "    print(\"---\")"
   ]
  },
  {
   "cell_type": "markdown",
   "metadata": {},
   "source": [
    "## Enumnerate Alternative Wordings of Commands\n",
    "Ouput a set of reasonably accurate paraphrases for the commands in our game"
   ]
  },
  {
   "cell_type": "code",
   "execution_count": 9,
   "metadata": {},
   "outputs": [],
   "source": [
    "import itertools\n",
    "\n",
    "def get_alternatives(word, word_senses, confirmed_hypernyms, confirmed_hyponyms):\n",
    "    \"\"\"\n",
    "    Create a list of reasonable alternative for a word by listing out the synonyms for its word sense, and for its hyponyms and hypernyms\n",
    "    \"\"\"\n",
    "    alternatives = []\n",
    "    if not word in word_senses:\n",
    "        alternatives.append(word)\n",
    "        return alternatives\n",
    "    \n",
    "    word_sense = wn.synset(word_senses[word])\n",
    "    alternatives.extend(get_synonyms(word_sense))\n",
    "    for hypernym in confirmed_hypernyms[word]:\n",
    "        alternatives.extend(get_synonyms(wn.synset(hypernym)))\n",
    "    for hyponym in confirmed_hyponyms[word]:\n",
    "        alternatives.extend(get_synonyms(wn.synset(hyponym)))\n",
    "    return alternatives\n",
    "\n",
    "\n",
    "def enumerate_alternatives(sentence, word_senses, confirmed_hypernyms, confirmed_hyponyms):\n",
    "    \"\"\"\n",
    "    Enumerate all of the sentences that can result\n",
    "    by taking any combination of the alternates for each word in the sentence\n",
    "    \"\"\"\n",
    "    words = word_tokenize(sentence.lower())\n",
    "    # 2-D list\n",
    "    alternatives_per_word = []\n",
    "    for word in words:\n",
    "        alternative = get_alternatives(word, word_senses, confirmed_hypernyms, confirmed_hyponyms)\n",
    "        alternatives_per_word.append(alternatives)\n",
    "    \n",
    "    # combination of 2-D lists\n",
    "    alternative_to_original = {}\n",
    "    for word in list(itertools.product(*alternatives_per_word)):\n",
    "        alt_sent = \" \".join(words)\n",
    "        alternative_to_original[alt_sent] = sentence\n",
    "    return alternative_to_original"
   ]
  },
  {
   "cell_type": "code",
   "execution_count": 10,
   "metadata": {},
   "outputs": [
    {
     "ename": "NameError",
     "evalue": "name 'confirmed_hypernyms' is not defined",
     "output_type": "error",
     "traceback": [
      "\u001b[0;31m---------------------------------------------------------------------------\u001b[0m",
      "\u001b[0;31mNameError\u001b[0m                                 Traceback (most recent call last)",
      "\u001b[0;32m<ipython-input-10-4f157030d69a>\u001b[0m in \u001b[0;36m<module>\u001b[0;34m\u001b[0m\n\u001b[1;32m      3\u001b[0m     alternative_commands.update(enumerate_alternatives(command,\n\u001b[1;32m      4\u001b[0m                                                         \u001b[0mword_senses\u001b[0m\u001b[0;34m,\u001b[0m\u001b[0;34m\u001b[0m\u001b[0;34m\u001b[0m\u001b[0m\n\u001b[0;32m----> 5\u001b[0;31m                                                         \u001b[0mconfirmed_hypernyms\u001b[0m\u001b[0;34m,\u001b[0m\u001b[0;34m\u001b[0m\u001b[0;34m\u001b[0m\u001b[0m\n\u001b[0m\u001b[1;32m      6\u001b[0m                                                         confirmed_hyponyms))\n\u001b[1;32m      7\u001b[0m \u001b[0;34m\u001b[0m\u001b[0m\n",
      "\u001b[0;31mNameError\u001b[0m: name 'confirmed_hypernyms' is not defined"
     ]
    }
   ],
   "source": [
    "alternative_commands = {}\n",
    "for command in commands:\n",
    "    alternative_commands.update(enumerate_alternatives(command,\n",
    "                                                        word_senses,\n",
    "                                                        confirmed_hypernyms,\n",
    "                                                        confirmed_hyponyms))\n",
    "\n",
    "for alt_sent in alternative_commands:\n",
    "    print(\"%s => %s\" %(alt_sent, alternative_commands[alt_senst]))\n",
    "print(\"Congratulations, you can now handle %d commands instead of just %d!\" %(len(alternative_commands.keys()), len(commands)))"
   ]
  },
  {
   "cell_type": "code",
   "execution_count": null,
   "metadata": {},
   "outputs": [],
   "source": []
  }
 ],
 "metadata": {
  "kernelspec": {
   "display_name": "PyCharm (applied-text-mining)",
   "language": "python",
   "name": "pycharm-13dda136"
  },
  "language_info": {
   "codemirror_mode": {
    "name": "ipython",
    "version": 3
   },
   "file_extension": ".py",
   "mimetype": "text/x-python",
   "name": "python",
   "nbconvert_exporter": "python",
   "pygments_lexer": "ipython3",
   "version": "3.8.6"
  },
  "metadata": {
   "interpreter": {
    "hash": "cfac66161ae91176b189fc5d840229a5daa938976225f5ac7dd7199e440d2efc"
   }
  }
 },
 "nbformat": 4,
 "nbformat_minor": 4
}
